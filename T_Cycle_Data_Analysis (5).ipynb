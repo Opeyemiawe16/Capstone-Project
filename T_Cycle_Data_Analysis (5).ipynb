{
  "nbformat": 4,
  "nbformat_minor": 0,
  "metadata": {
    "colab": {
      "provenance": []
    },
    "kernelspec": {
      "name": "python3",
      "display_name": "Python 3"
    },
    "language_info": {
      "name": "python"
    }
  },
  "cells": [
    {
      "cell_type": "markdown",
      "source": [
        "# *Problem Statement*\n",
        "\n",
        "In today's digital age, access to technology is crucial for personal and professional development. However, a significant barrier exists for individuals in the tech community who cannot afford laptops, hindering their career opportunities. Also , The lack of accessible and affordable solutions for responsible e-waste disposal hinders individuals and organizations from properly discarding their used electronic devices."
      ],
      "metadata": {
        "id": "SIfLrxQgdZeM"
      }
    },
    {
      "cell_type": "markdown",
      "source": [
        "# *Objective\n",
        " To address these challenges, T-cycle is creating a platform for donating old gadgets to aspiring tech professionals, aiming to extend electronics' lifecycles, reduce e-waste, and provide opportunities for those unable to afford tech tools."
      ],
      "metadata": {
        "id": "6xTGtipedljC"
      }
    },
    {
      "cell_type": "markdown",
      "source": [
        "# *About the Dataset*\n",
        "\n",
        "A Survey was conducted by individuals collectively.\n",
        "We have 92 respondents from the survey carried out\n",
        "\n",
        "The Dataset contains 92 rows and 22 columns\n",
        "\n",
        "Explaination of each columns\n",
        "1. S/N\n",
        "2. Age\n",
        "3. Gender\n",
        "4. Country\n",
        "5. City\n",
        "6. State\n",
        "7. Occupation -> Occupation\n",
        "8. Do you currently own a laptop or computer? -> Current Ownership\n",
        "9. If no, what is the primary reason for not owning a laptop? -> Reason for Not Owning\n",
        "10. Would you be interested in receiving a refurbished or donated gadget through a platform like Tech Cycle if it meets your needs? -> Interest in Refurbished/Donated Gadget\n",
        "11. Do you have old gadgets that are not in use? -> Old Gadgets Availability\n",
        "12. If yes, what do you do to your old gadgets? -> Action on Old Gadgets\n",
        "13. Are you willing to start donating your old gadgets? -> Willingness to Donate\n",
        "14. Have you used online platforms that connect donors of old gadgets to individuals before? -> Previous Platform Usage\n",
        "15. If yes, please mention the name of the platform. -> Platform Name\n",
        "16. How likely are you to use a platform like Tech Cycle for donating your used gadgets in the future? -> Likelihood of Future Usage\n",
        "17.What features would you like to see implemented in a platform like Tech Cycle to enhance the donation experience? -> Desired Features\n",
        "18. If you choose 'other', please specify -> Other Features\n",
        "19. How concerned are you about the security of your personal information on the platform? -> Security Concern\n",
        "20. How important is it for you that the platform implements measures to protect your privacy? -> Importance of Privacy Protection\n",
        "21. What security features would you like to see implemented on the platform? -> Desired Security Features\n",
        "22. Do you have any suggestions for improving the platform? -> Platform Improvement Suggestions\n",
        "\n",
        "The Dataset contains 92 rows and 22 columns"
      ],
      "metadata": {
        "id": "HKH4FrpLeAY7"
      }
    },
    {
      "cell_type": "markdown",
      "source": [
        "# *Importing the libraries*"
      ],
      "metadata": {
        "id": "LsMaLQ6Pb3U5"
      }
    },
    {
      "cell_type": "code",
      "execution_count": 1,
      "metadata": {
        "id": "N6BR6b--BCAO"
      },
      "outputs": [],
      "source": [
        "# for data wrangling and preprocessing\n",
        "import numpy as np\n",
        "import pandas as pd\n",
        "\n",
        "# for visualisations\n",
        "import matplotlib.pyplot as plt\n",
        "import seaborn as sns\n",
        "import plotly.express as px"
      ]
    },
    {
      "cell_type": "markdown",
      "source": [
        "# *Reading the dataset*"
      ],
      "metadata": {
        "id": "ThpOkXIQb_za"
      }
    },
    {
      "cell_type": "code",
      "source": [
        "# read the data into a pandas dataframe\n",
        "df= pd.read_csv(r\"/content/T_Cycle Dataset.csv\")\n",
        "\n",
        "# check the first 5 rows of the data\n",
        "df.head()"
      ],
      "metadata": {
        "colab": {
          "base_uri": "https://localhost:8080/",
          "height": 637
        },
        "id": "h40fklmHCuAj",
        "outputId": "fb7ac764-fbbf-4dd4-ceb6-1c2cff5c084d"
      },
      "execution_count": 2,
      "outputs": [
        {
          "output_type": "execute_result",
          "data": {
            "text/plain": [
              "   S/N     Age range  Gender  Country  State       City Occupation  \\\n",
              "0    1  31 and above    Male  Nigeria  Lagos        NaN   Employed   \n",
              "1    2         18-24  Female  Nigeria    NaN        NaN    Student   \n",
              "2    3        25- 30  Female  Nigeria   Ogun  Ijebu ode   Employed   \n",
              "3    4  31 and above    Male  Nigeria  Lagos        NaN   Employed   \n",
              "4    5        25- 30    Male  Nigeria  Lagos        NaN   Employed   \n",
              "\n",
              "  Current Ownership(laptop) Reason for Not Owning(if No)  \\\n",
              "0                       Yes                          NaN   \n",
              "1                       Yes                          NaN   \n",
              "2                        No        Financial constriants   \n",
              "3                       Yes                          NaN   \n",
              "4                       Yes                          NaN   \n",
              "\n",
              "  Interest in Refurbished/Donated Gadget  ... Willingness to Donate  \\\n",
              "0                                  Maybe  ...                   Yes   \n",
              "1                                    Yes  ...                 Maybe   \n",
              "2                                    Yes  ...                   Yes   \n",
              "3                                  Maybe  ...                    No   \n",
              "4                                  Maybe  ...                 Maybe   \n",
              "\n",
              "  Previous Platform Usage Platform Name(If yes) Likelihood of Future Usage  \\\n",
              "0                      No                   NaN                        1.0   \n",
              "1                      No                   NaN                        4.0   \n",
              "2                      No                   NaN                        3.0   \n",
              "3                      No                   NaN                        3.0   \n",
              "4                      No                   NaN                        5.0   \n",
              "\n",
              "                                    Desired Features  \\\n",
              "0  Integration with social media for sharing dona...   \n",
              "1  Option to choose specific recipients or organi...   \n",
              "2  Integration with social media for sharing dona...   \n",
              "3  Real-time notifications on donation status, Op...   \n",
              "4  Real-time notifications on donation status, In...   \n",
              "\n",
              "   Other Features(if other) Security Concern Privacy Protection  \\\n",
              "0                       NaN              5.0                5.0   \n",
              "1                       NaN              5.0                5.0   \n",
              "2                       NaN              4.0                4.0   \n",
              "3                       NaN              5.0                5.0   \n",
              "4                       NaN              5.0                5.0   \n",
              "\n",
              "   Desired Security Features  Platform Improvement Suggestions  \n",
              "0                        NaN                               NaN  \n",
              "1                        NaN                               NaN  \n",
              "2                        NaN                               NaN  \n",
              "3  Two factor authentication                               NaN  \n",
              "4                        NaN                               NaN  \n",
              "\n",
              "[5 rows x 22 columns]"
            ],
            "text/html": [
              "\n",
              "  <div id=\"df-441a7c6e-f730-4456-a5f2-d85f0de4a708\" class=\"colab-df-container\">\n",
              "    <div>\n",
              "<style scoped>\n",
              "    .dataframe tbody tr th:only-of-type {\n",
              "        vertical-align: middle;\n",
              "    }\n",
              "\n",
              "    .dataframe tbody tr th {\n",
              "        vertical-align: top;\n",
              "    }\n",
              "\n",
              "    .dataframe thead th {\n",
              "        text-align: right;\n",
              "    }\n",
              "</style>\n",
              "<table border=\"1\" class=\"dataframe\">\n",
              "  <thead>\n",
              "    <tr style=\"text-align: right;\">\n",
              "      <th></th>\n",
              "      <th>S/N</th>\n",
              "      <th>Age range</th>\n",
              "      <th>Gender</th>\n",
              "      <th>Country</th>\n",
              "      <th>State</th>\n",
              "      <th>City</th>\n",
              "      <th>Occupation</th>\n",
              "      <th>Current Ownership(laptop)</th>\n",
              "      <th>Reason for Not Owning(if No)</th>\n",
              "      <th>Interest in Refurbished/Donated Gadget</th>\n",
              "      <th>...</th>\n",
              "      <th>Willingness to Donate</th>\n",
              "      <th>Previous Platform Usage</th>\n",
              "      <th>Platform Name(If yes)</th>\n",
              "      <th>Likelihood of Future Usage</th>\n",
              "      <th>Desired Features</th>\n",
              "      <th>Other Features(if other)</th>\n",
              "      <th>Security Concern</th>\n",
              "      <th>Privacy Protection</th>\n",
              "      <th>Desired Security Features</th>\n",
              "      <th>Platform Improvement Suggestions</th>\n",
              "    </tr>\n",
              "  </thead>\n",
              "  <tbody>\n",
              "    <tr>\n",
              "      <th>0</th>\n",
              "      <td>1</td>\n",
              "      <td>31 and above</td>\n",
              "      <td>Male</td>\n",
              "      <td>Nigeria</td>\n",
              "      <td>Lagos</td>\n",
              "      <td>NaN</td>\n",
              "      <td>Employed</td>\n",
              "      <td>Yes</td>\n",
              "      <td>NaN</td>\n",
              "      <td>Maybe</td>\n",
              "      <td>...</td>\n",
              "      <td>Yes</td>\n",
              "      <td>No</td>\n",
              "      <td>NaN</td>\n",
              "      <td>1.0</td>\n",
              "      <td>Integration with social media for sharing dona...</td>\n",
              "      <td>NaN</td>\n",
              "      <td>5.0</td>\n",
              "      <td>5.0</td>\n",
              "      <td>NaN</td>\n",
              "      <td>NaN</td>\n",
              "    </tr>\n",
              "    <tr>\n",
              "      <th>1</th>\n",
              "      <td>2</td>\n",
              "      <td>18-24</td>\n",
              "      <td>Female</td>\n",
              "      <td>Nigeria</td>\n",
              "      <td>NaN</td>\n",
              "      <td>NaN</td>\n",
              "      <td>Student</td>\n",
              "      <td>Yes</td>\n",
              "      <td>NaN</td>\n",
              "      <td>Yes</td>\n",
              "      <td>...</td>\n",
              "      <td>Maybe</td>\n",
              "      <td>No</td>\n",
              "      <td>NaN</td>\n",
              "      <td>4.0</td>\n",
              "      <td>Option to choose specific recipients or organi...</td>\n",
              "      <td>NaN</td>\n",
              "      <td>5.0</td>\n",
              "      <td>5.0</td>\n",
              "      <td>NaN</td>\n",
              "      <td>NaN</td>\n",
              "    </tr>\n",
              "    <tr>\n",
              "      <th>2</th>\n",
              "      <td>3</td>\n",
              "      <td>25- 30</td>\n",
              "      <td>Female</td>\n",
              "      <td>Nigeria</td>\n",
              "      <td>Ogun</td>\n",
              "      <td>Ijebu ode</td>\n",
              "      <td>Employed</td>\n",
              "      <td>No</td>\n",
              "      <td>Financial constriants</td>\n",
              "      <td>Yes</td>\n",
              "      <td>...</td>\n",
              "      <td>Yes</td>\n",
              "      <td>No</td>\n",
              "      <td>NaN</td>\n",
              "      <td>3.0</td>\n",
              "      <td>Integration with social media for sharing dona...</td>\n",
              "      <td>NaN</td>\n",
              "      <td>4.0</td>\n",
              "      <td>4.0</td>\n",
              "      <td>NaN</td>\n",
              "      <td>NaN</td>\n",
              "    </tr>\n",
              "    <tr>\n",
              "      <th>3</th>\n",
              "      <td>4</td>\n",
              "      <td>31 and above</td>\n",
              "      <td>Male</td>\n",
              "      <td>Nigeria</td>\n",
              "      <td>Lagos</td>\n",
              "      <td>NaN</td>\n",
              "      <td>Employed</td>\n",
              "      <td>Yes</td>\n",
              "      <td>NaN</td>\n",
              "      <td>Maybe</td>\n",
              "      <td>...</td>\n",
              "      <td>No</td>\n",
              "      <td>No</td>\n",
              "      <td>NaN</td>\n",
              "      <td>3.0</td>\n",
              "      <td>Real-time notifications on donation status, Op...</td>\n",
              "      <td>NaN</td>\n",
              "      <td>5.0</td>\n",
              "      <td>5.0</td>\n",
              "      <td>Two factor authentication</td>\n",
              "      <td>NaN</td>\n",
              "    </tr>\n",
              "    <tr>\n",
              "      <th>4</th>\n",
              "      <td>5</td>\n",
              "      <td>25- 30</td>\n",
              "      <td>Male</td>\n",
              "      <td>Nigeria</td>\n",
              "      <td>Lagos</td>\n",
              "      <td>NaN</td>\n",
              "      <td>Employed</td>\n",
              "      <td>Yes</td>\n",
              "      <td>NaN</td>\n",
              "      <td>Maybe</td>\n",
              "      <td>...</td>\n",
              "      <td>Maybe</td>\n",
              "      <td>No</td>\n",
              "      <td>NaN</td>\n",
              "      <td>5.0</td>\n",
              "      <td>Real-time notifications on donation status, In...</td>\n",
              "      <td>NaN</td>\n",
              "      <td>5.0</td>\n",
              "      <td>5.0</td>\n",
              "      <td>NaN</td>\n",
              "      <td>NaN</td>\n",
              "    </tr>\n",
              "  </tbody>\n",
              "</table>\n",
              "<p>5 rows × 22 columns</p>\n",
              "</div>\n",
              "    <div class=\"colab-df-buttons\">\n",
              "\n",
              "  <div class=\"colab-df-container\">\n",
              "    <button class=\"colab-df-convert\" onclick=\"convertToInteractive('df-441a7c6e-f730-4456-a5f2-d85f0de4a708')\"\n",
              "            title=\"Convert this dataframe to an interactive table.\"\n",
              "            style=\"display:none;\">\n",
              "\n",
              "  <svg xmlns=\"http://www.w3.org/2000/svg\" height=\"24px\" viewBox=\"0 -960 960 960\">\n",
              "    <path d=\"M120-120v-720h720v720H120Zm60-500h600v-160H180v160Zm220 220h160v-160H400v160Zm0 220h160v-160H400v160ZM180-400h160v-160H180v160Zm440 0h160v-160H620v160ZM180-180h160v-160H180v160Zm440 0h160v-160H620v160Z\"/>\n",
              "  </svg>\n",
              "    </button>\n",
              "\n",
              "  <style>\n",
              "    .colab-df-container {\n",
              "      display:flex;\n",
              "      gap: 12px;\n",
              "    }\n",
              "\n",
              "    .colab-df-convert {\n",
              "      background-color: #E8F0FE;\n",
              "      border: none;\n",
              "      border-radius: 50%;\n",
              "      cursor: pointer;\n",
              "      display: none;\n",
              "      fill: #1967D2;\n",
              "      height: 32px;\n",
              "      padding: 0 0 0 0;\n",
              "      width: 32px;\n",
              "    }\n",
              "\n",
              "    .colab-df-convert:hover {\n",
              "      background-color: #E2EBFA;\n",
              "      box-shadow: 0px 1px 2px rgba(60, 64, 67, 0.3), 0px 1px 3px 1px rgba(60, 64, 67, 0.15);\n",
              "      fill: #174EA6;\n",
              "    }\n",
              "\n",
              "    .colab-df-buttons div {\n",
              "      margin-bottom: 4px;\n",
              "    }\n",
              "\n",
              "    [theme=dark] .colab-df-convert {\n",
              "      background-color: #3B4455;\n",
              "      fill: #D2E3FC;\n",
              "    }\n",
              "\n",
              "    [theme=dark] .colab-df-convert:hover {\n",
              "      background-color: #434B5C;\n",
              "      box-shadow: 0px 1px 3px 1px rgba(0, 0, 0, 0.15);\n",
              "      filter: drop-shadow(0px 1px 2px rgba(0, 0, 0, 0.3));\n",
              "      fill: #FFFFFF;\n",
              "    }\n",
              "  </style>\n",
              "\n",
              "    <script>\n",
              "      const buttonEl =\n",
              "        document.querySelector('#df-441a7c6e-f730-4456-a5f2-d85f0de4a708 button.colab-df-convert');\n",
              "      buttonEl.style.display =\n",
              "        google.colab.kernel.accessAllowed ? 'block' : 'none';\n",
              "\n",
              "      async function convertToInteractive(key) {\n",
              "        const element = document.querySelector('#df-441a7c6e-f730-4456-a5f2-d85f0de4a708');\n",
              "        const dataTable =\n",
              "          await google.colab.kernel.invokeFunction('convertToInteractive',\n",
              "                                                    [key], {});\n",
              "        if (!dataTable) return;\n",
              "\n",
              "        const docLinkHtml = 'Like what you see? Visit the ' +\n",
              "          '<a target=\"_blank\" href=https://colab.research.google.com/notebooks/data_table.ipynb>data table notebook</a>'\n",
              "          + ' to learn more about interactive tables.';\n",
              "        element.innerHTML = '';\n",
              "        dataTable['output_type'] = 'display_data';\n",
              "        await google.colab.output.renderOutput(dataTable, element);\n",
              "        const docLink = document.createElement('div');\n",
              "        docLink.innerHTML = docLinkHtml;\n",
              "        element.appendChild(docLink);\n",
              "      }\n",
              "    </script>\n",
              "  </div>\n",
              "\n",
              "\n",
              "<div id=\"df-4162404a-da46-468c-a93d-d67342cc21a0\">\n",
              "  <button class=\"colab-df-quickchart\" onclick=\"quickchart('df-4162404a-da46-468c-a93d-d67342cc21a0')\"\n",
              "            title=\"Suggest charts\"\n",
              "            style=\"display:none;\">\n",
              "\n",
              "<svg xmlns=\"http://www.w3.org/2000/svg\" height=\"24px\"viewBox=\"0 0 24 24\"\n",
              "     width=\"24px\">\n",
              "    <g>\n",
              "        <path d=\"M19 3H5c-1.1 0-2 .9-2 2v14c0 1.1.9 2 2 2h14c1.1 0 2-.9 2-2V5c0-1.1-.9-2-2-2zM9 17H7v-7h2v7zm4 0h-2V7h2v10zm4 0h-2v-4h2v4z\"/>\n",
              "    </g>\n",
              "</svg>\n",
              "  </button>\n",
              "\n",
              "<style>\n",
              "  .colab-df-quickchart {\n",
              "      --bg-color: #E8F0FE;\n",
              "      --fill-color: #1967D2;\n",
              "      --hover-bg-color: #E2EBFA;\n",
              "      --hover-fill-color: #174EA6;\n",
              "      --disabled-fill-color: #AAA;\n",
              "      --disabled-bg-color: #DDD;\n",
              "  }\n",
              "\n",
              "  [theme=dark] .colab-df-quickchart {\n",
              "      --bg-color: #3B4455;\n",
              "      --fill-color: #D2E3FC;\n",
              "      --hover-bg-color: #434B5C;\n",
              "      --hover-fill-color: #FFFFFF;\n",
              "      --disabled-bg-color: #3B4455;\n",
              "      --disabled-fill-color: #666;\n",
              "  }\n",
              "\n",
              "  .colab-df-quickchart {\n",
              "    background-color: var(--bg-color);\n",
              "    border: none;\n",
              "    border-radius: 50%;\n",
              "    cursor: pointer;\n",
              "    display: none;\n",
              "    fill: var(--fill-color);\n",
              "    height: 32px;\n",
              "    padding: 0;\n",
              "    width: 32px;\n",
              "  }\n",
              "\n",
              "  .colab-df-quickchart:hover {\n",
              "    background-color: var(--hover-bg-color);\n",
              "    box-shadow: 0 1px 2px rgba(60, 64, 67, 0.3), 0 1px 3px 1px rgba(60, 64, 67, 0.15);\n",
              "    fill: var(--button-hover-fill-color);\n",
              "  }\n",
              "\n",
              "  .colab-df-quickchart-complete:disabled,\n",
              "  .colab-df-quickchart-complete:disabled:hover {\n",
              "    background-color: var(--disabled-bg-color);\n",
              "    fill: var(--disabled-fill-color);\n",
              "    box-shadow: none;\n",
              "  }\n",
              "\n",
              "  .colab-df-spinner {\n",
              "    border: 2px solid var(--fill-color);\n",
              "    border-color: transparent;\n",
              "    border-bottom-color: var(--fill-color);\n",
              "    animation:\n",
              "      spin 1s steps(1) infinite;\n",
              "  }\n",
              "\n",
              "  @keyframes spin {\n",
              "    0% {\n",
              "      border-color: transparent;\n",
              "      border-bottom-color: var(--fill-color);\n",
              "      border-left-color: var(--fill-color);\n",
              "    }\n",
              "    20% {\n",
              "      border-color: transparent;\n",
              "      border-left-color: var(--fill-color);\n",
              "      border-top-color: var(--fill-color);\n",
              "    }\n",
              "    30% {\n",
              "      border-color: transparent;\n",
              "      border-left-color: var(--fill-color);\n",
              "      border-top-color: var(--fill-color);\n",
              "      border-right-color: var(--fill-color);\n",
              "    }\n",
              "    40% {\n",
              "      border-color: transparent;\n",
              "      border-right-color: var(--fill-color);\n",
              "      border-top-color: var(--fill-color);\n",
              "    }\n",
              "    60% {\n",
              "      border-color: transparent;\n",
              "      border-right-color: var(--fill-color);\n",
              "    }\n",
              "    80% {\n",
              "      border-color: transparent;\n",
              "      border-right-color: var(--fill-color);\n",
              "      border-bottom-color: var(--fill-color);\n",
              "    }\n",
              "    90% {\n",
              "      border-color: transparent;\n",
              "      border-bottom-color: var(--fill-color);\n",
              "    }\n",
              "  }\n",
              "</style>\n",
              "\n",
              "  <script>\n",
              "    async function quickchart(key) {\n",
              "      const quickchartButtonEl =\n",
              "        document.querySelector('#' + key + ' button');\n",
              "      quickchartButtonEl.disabled = true;  // To prevent multiple clicks.\n",
              "      quickchartButtonEl.classList.add('colab-df-spinner');\n",
              "      try {\n",
              "        const charts = await google.colab.kernel.invokeFunction(\n",
              "            'suggestCharts', [key], {});\n",
              "      } catch (error) {\n",
              "        console.error('Error during call to suggestCharts:', error);\n",
              "      }\n",
              "      quickchartButtonEl.classList.remove('colab-df-spinner');\n",
              "      quickchartButtonEl.classList.add('colab-df-quickchart-complete');\n",
              "    }\n",
              "    (() => {\n",
              "      let quickchartButtonEl =\n",
              "        document.querySelector('#df-4162404a-da46-468c-a93d-d67342cc21a0 button');\n",
              "      quickchartButtonEl.style.display =\n",
              "        google.colab.kernel.accessAllowed ? 'block' : 'none';\n",
              "    })();\n",
              "  </script>\n",
              "</div>\n",
              "\n",
              "    </div>\n",
              "  </div>\n"
            ],
            "application/vnd.google.colaboratory.intrinsic+json": {
              "type": "dataframe",
              "variable_name": "df"
            }
          },
          "metadata": {},
          "execution_count": 2
        }
      ]
    },
    {
      "cell_type": "code",
      "source": [
        "#check the last 5 rows\n",
        "df.tail()"
      ],
      "metadata": {
        "colab": {
          "base_uri": "https://localhost:8080/",
          "height": 654
        },
        "id": "UlcSPslKDI3s",
        "outputId": "a661c303-6b2e-4e34-965b-d47e3afad862"
      },
      "execution_count": 3,
      "outputs": [
        {
          "output_type": "execute_result",
          "data": {
            "text/plain": [
              "    S/N     Age range  Gender  Country  State      City     Occupation  \\\n",
              "87   88         18-24  Female  Nigeria    Oyo  Ogbomoso        Student   \n",
              "88   89         25-30  Female  Nigeria    Oyo    Ibadan  Self employed   \n",
              "89   90  31 and above    Male  Nigeria   Osun    Osogbo  Self employed   \n",
              "90   91  31 and above    Male  Nigeria  Abuja       NaN       Employed   \n",
              "91   92         18-24  Female  Nigeria   Osun   Ile-Ife        Student   \n",
              "\n",
              "   Current Ownership(laptop) Reason for Not Owning(if No)  \\\n",
              "87                        No        Financial constriants   \n",
              "88                       Yes                          NaN   \n",
              "89                       Yes                          NaN   \n",
              "90                       Yes                        Other   \n",
              "91                        No                        Other   \n",
              "\n",
              "   Interest in Refurbished/Donated Gadget  ... Willingness to Donate  \\\n",
              "87                                    Yes  ...                    No   \n",
              "88                                     No  ...                 Maybe   \n",
              "89                                    Yes  ...                 Maybe   \n",
              "90                                  Maybe  ...                   Yes   \n",
              "91                                    Yes  ...                 Maybe   \n",
              "\n",
              "   Previous Platform Usage Platform Name(If yes) Likelihood of Future Usage  \\\n",
              "87                      No                   NaN                        3.0   \n",
              "88                      No                   NaN                        4.0   \n",
              "89                      No                   NaN                        4.0   \n",
              "90                      No                   NaN                        3.0   \n",
              "91                      No                 None                         1.0   \n",
              "\n",
              "                                     Desired Features  \\\n",
              "87  Real-time notifications on donation status, Op...   \n",
              "88  Real-time notifications on donation status, Op...   \n",
              "89  Real-time notifications on donation status, Op...   \n",
              "90  Real-time notifications on donation status, Op...   \n",
              "91  Integration with social media for sharing dona...   \n",
              "\n",
              "    Other Features(if other) Security Concern Privacy Protection  \\\n",
              "87                       NaN              4.0                4.0   \n",
              "88                       NaN              5.0                5.0   \n",
              "89                       NaN              4.0                5.0   \n",
              "90                       NaN              5.0                5.0   \n",
              "91                       NaN              3.0                2.0   \n",
              "\n",
              "    Desired Security Features  Platform Improvement Suggestions  \n",
              "87                        NaN                               NaN  \n",
              "88           Data encryption                                NaN  \n",
              "89                        NaN                               NaN  \n",
              "90           Data Protection                                NaN  \n",
              "91                      None                                 No  \n",
              "\n",
              "[5 rows x 22 columns]"
            ],
            "text/html": [
              "\n",
              "  <div id=\"df-05c169c8-9327-42b4-9b3a-4f3b45e4bc5c\" class=\"colab-df-container\">\n",
              "    <div>\n",
              "<style scoped>\n",
              "    .dataframe tbody tr th:only-of-type {\n",
              "        vertical-align: middle;\n",
              "    }\n",
              "\n",
              "    .dataframe tbody tr th {\n",
              "        vertical-align: top;\n",
              "    }\n",
              "\n",
              "    .dataframe thead th {\n",
              "        text-align: right;\n",
              "    }\n",
              "</style>\n",
              "<table border=\"1\" class=\"dataframe\">\n",
              "  <thead>\n",
              "    <tr style=\"text-align: right;\">\n",
              "      <th></th>\n",
              "      <th>S/N</th>\n",
              "      <th>Age range</th>\n",
              "      <th>Gender</th>\n",
              "      <th>Country</th>\n",
              "      <th>State</th>\n",
              "      <th>City</th>\n",
              "      <th>Occupation</th>\n",
              "      <th>Current Ownership(laptop)</th>\n",
              "      <th>Reason for Not Owning(if No)</th>\n",
              "      <th>Interest in Refurbished/Donated Gadget</th>\n",
              "      <th>...</th>\n",
              "      <th>Willingness to Donate</th>\n",
              "      <th>Previous Platform Usage</th>\n",
              "      <th>Platform Name(If yes)</th>\n",
              "      <th>Likelihood of Future Usage</th>\n",
              "      <th>Desired Features</th>\n",
              "      <th>Other Features(if other)</th>\n",
              "      <th>Security Concern</th>\n",
              "      <th>Privacy Protection</th>\n",
              "      <th>Desired Security Features</th>\n",
              "      <th>Platform Improvement Suggestions</th>\n",
              "    </tr>\n",
              "  </thead>\n",
              "  <tbody>\n",
              "    <tr>\n",
              "      <th>87</th>\n",
              "      <td>88</td>\n",
              "      <td>18-24</td>\n",
              "      <td>Female</td>\n",
              "      <td>Nigeria</td>\n",
              "      <td>Oyo</td>\n",
              "      <td>Ogbomoso</td>\n",
              "      <td>Student</td>\n",
              "      <td>No</td>\n",
              "      <td>Financial constriants</td>\n",
              "      <td>Yes</td>\n",
              "      <td>...</td>\n",
              "      <td>No</td>\n",
              "      <td>No</td>\n",
              "      <td>NaN</td>\n",
              "      <td>3.0</td>\n",
              "      <td>Real-time notifications on donation status, Op...</td>\n",
              "      <td>NaN</td>\n",
              "      <td>4.0</td>\n",
              "      <td>4.0</td>\n",
              "      <td>NaN</td>\n",
              "      <td>NaN</td>\n",
              "    </tr>\n",
              "    <tr>\n",
              "      <th>88</th>\n",
              "      <td>89</td>\n",
              "      <td>25-30</td>\n",
              "      <td>Female</td>\n",
              "      <td>Nigeria</td>\n",
              "      <td>Oyo</td>\n",
              "      <td>Ibadan</td>\n",
              "      <td>Self employed</td>\n",
              "      <td>Yes</td>\n",
              "      <td>NaN</td>\n",
              "      <td>No</td>\n",
              "      <td>...</td>\n",
              "      <td>Maybe</td>\n",
              "      <td>No</td>\n",
              "      <td>NaN</td>\n",
              "      <td>4.0</td>\n",
              "      <td>Real-time notifications on donation status, Op...</td>\n",
              "      <td>NaN</td>\n",
              "      <td>5.0</td>\n",
              "      <td>5.0</td>\n",
              "      <td>Data encryption</td>\n",
              "      <td>NaN</td>\n",
              "    </tr>\n",
              "    <tr>\n",
              "      <th>89</th>\n",
              "      <td>90</td>\n",
              "      <td>31 and above</td>\n",
              "      <td>Male</td>\n",
              "      <td>Nigeria</td>\n",
              "      <td>Osun</td>\n",
              "      <td>Osogbo</td>\n",
              "      <td>Self employed</td>\n",
              "      <td>Yes</td>\n",
              "      <td>NaN</td>\n",
              "      <td>Yes</td>\n",
              "      <td>...</td>\n",
              "      <td>Maybe</td>\n",
              "      <td>No</td>\n",
              "      <td>NaN</td>\n",
              "      <td>4.0</td>\n",
              "      <td>Real-time notifications on donation status, Op...</td>\n",
              "      <td>NaN</td>\n",
              "      <td>4.0</td>\n",
              "      <td>5.0</td>\n",
              "      <td>NaN</td>\n",
              "      <td>NaN</td>\n",
              "    </tr>\n",
              "    <tr>\n",
              "      <th>90</th>\n",
              "      <td>91</td>\n",
              "      <td>31 and above</td>\n",
              "      <td>Male</td>\n",
              "      <td>Nigeria</td>\n",
              "      <td>Abuja</td>\n",
              "      <td>NaN</td>\n",
              "      <td>Employed</td>\n",
              "      <td>Yes</td>\n",
              "      <td>Other</td>\n",
              "      <td>Maybe</td>\n",
              "      <td>...</td>\n",
              "      <td>Yes</td>\n",
              "      <td>No</td>\n",
              "      <td>NaN</td>\n",
              "      <td>3.0</td>\n",
              "      <td>Real-time notifications on donation status, Op...</td>\n",
              "      <td>NaN</td>\n",
              "      <td>5.0</td>\n",
              "      <td>5.0</td>\n",
              "      <td>Data Protection</td>\n",
              "      <td>NaN</td>\n",
              "    </tr>\n",
              "    <tr>\n",
              "      <th>91</th>\n",
              "      <td>92</td>\n",
              "      <td>18-24</td>\n",
              "      <td>Female</td>\n",
              "      <td>Nigeria</td>\n",
              "      <td>Osun</td>\n",
              "      <td>Ile-Ife</td>\n",
              "      <td>Student</td>\n",
              "      <td>No</td>\n",
              "      <td>Other</td>\n",
              "      <td>Yes</td>\n",
              "      <td>...</td>\n",
              "      <td>Maybe</td>\n",
              "      <td>No</td>\n",
              "      <td>None</td>\n",
              "      <td>1.0</td>\n",
              "      <td>Integration with social media for sharing dona...</td>\n",
              "      <td>NaN</td>\n",
              "      <td>3.0</td>\n",
              "      <td>2.0</td>\n",
              "      <td>None</td>\n",
              "      <td>No</td>\n",
              "    </tr>\n",
              "  </tbody>\n",
              "</table>\n",
              "<p>5 rows × 22 columns</p>\n",
              "</div>\n",
              "    <div class=\"colab-df-buttons\">\n",
              "\n",
              "  <div class=\"colab-df-container\">\n",
              "    <button class=\"colab-df-convert\" onclick=\"convertToInteractive('df-05c169c8-9327-42b4-9b3a-4f3b45e4bc5c')\"\n",
              "            title=\"Convert this dataframe to an interactive table.\"\n",
              "            style=\"display:none;\">\n",
              "\n",
              "  <svg xmlns=\"http://www.w3.org/2000/svg\" height=\"24px\" viewBox=\"0 -960 960 960\">\n",
              "    <path d=\"M120-120v-720h720v720H120Zm60-500h600v-160H180v160Zm220 220h160v-160H400v160Zm0 220h160v-160H400v160ZM180-400h160v-160H180v160Zm440 0h160v-160H620v160ZM180-180h160v-160H180v160Zm440 0h160v-160H620v160Z\"/>\n",
              "  </svg>\n",
              "    </button>\n",
              "\n",
              "  <style>\n",
              "    .colab-df-container {\n",
              "      display:flex;\n",
              "      gap: 12px;\n",
              "    }\n",
              "\n",
              "    .colab-df-convert {\n",
              "      background-color: #E8F0FE;\n",
              "      border: none;\n",
              "      border-radius: 50%;\n",
              "      cursor: pointer;\n",
              "      display: none;\n",
              "      fill: #1967D2;\n",
              "      height: 32px;\n",
              "      padding: 0 0 0 0;\n",
              "      width: 32px;\n",
              "    }\n",
              "\n",
              "    .colab-df-convert:hover {\n",
              "      background-color: #E2EBFA;\n",
              "      box-shadow: 0px 1px 2px rgba(60, 64, 67, 0.3), 0px 1px 3px 1px rgba(60, 64, 67, 0.15);\n",
              "      fill: #174EA6;\n",
              "    }\n",
              "\n",
              "    .colab-df-buttons div {\n",
              "      margin-bottom: 4px;\n",
              "    }\n",
              "\n",
              "    [theme=dark] .colab-df-convert {\n",
              "      background-color: #3B4455;\n",
              "      fill: #D2E3FC;\n",
              "    }\n",
              "\n",
              "    [theme=dark] .colab-df-convert:hover {\n",
              "      background-color: #434B5C;\n",
              "      box-shadow: 0px 1px 3px 1px rgba(0, 0, 0, 0.15);\n",
              "      filter: drop-shadow(0px 1px 2px rgba(0, 0, 0, 0.3));\n",
              "      fill: #FFFFFF;\n",
              "    }\n",
              "  </style>\n",
              "\n",
              "    <script>\n",
              "      const buttonEl =\n",
              "        document.querySelector('#df-05c169c8-9327-42b4-9b3a-4f3b45e4bc5c button.colab-df-convert');\n",
              "      buttonEl.style.display =\n",
              "        google.colab.kernel.accessAllowed ? 'block' : 'none';\n",
              "\n",
              "      async function convertToInteractive(key) {\n",
              "        const element = document.querySelector('#df-05c169c8-9327-42b4-9b3a-4f3b45e4bc5c');\n",
              "        const dataTable =\n",
              "          await google.colab.kernel.invokeFunction('convertToInteractive',\n",
              "                                                    [key], {});\n",
              "        if (!dataTable) return;\n",
              "\n",
              "        const docLinkHtml = 'Like what you see? Visit the ' +\n",
              "          '<a target=\"_blank\" href=https://colab.research.google.com/notebooks/data_table.ipynb>data table notebook</a>'\n",
              "          + ' to learn more about interactive tables.';\n",
              "        element.innerHTML = '';\n",
              "        dataTable['output_type'] = 'display_data';\n",
              "        await google.colab.output.renderOutput(dataTable, element);\n",
              "        const docLink = document.createElement('div');\n",
              "        docLink.innerHTML = docLinkHtml;\n",
              "        element.appendChild(docLink);\n",
              "      }\n",
              "    </script>\n",
              "  </div>\n",
              "\n",
              "\n",
              "<div id=\"df-6510fbbe-3d79-4434-a70a-9f540990fea6\">\n",
              "  <button class=\"colab-df-quickchart\" onclick=\"quickchart('df-6510fbbe-3d79-4434-a70a-9f540990fea6')\"\n",
              "            title=\"Suggest charts\"\n",
              "            style=\"display:none;\">\n",
              "\n",
              "<svg xmlns=\"http://www.w3.org/2000/svg\" height=\"24px\"viewBox=\"0 0 24 24\"\n",
              "     width=\"24px\">\n",
              "    <g>\n",
              "        <path d=\"M19 3H5c-1.1 0-2 .9-2 2v14c0 1.1.9 2 2 2h14c1.1 0 2-.9 2-2V5c0-1.1-.9-2-2-2zM9 17H7v-7h2v7zm4 0h-2V7h2v10zm4 0h-2v-4h2v4z\"/>\n",
              "    </g>\n",
              "</svg>\n",
              "  </button>\n",
              "\n",
              "<style>\n",
              "  .colab-df-quickchart {\n",
              "      --bg-color: #E8F0FE;\n",
              "      --fill-color: #1967D2;\n",
              "      --hover-bg-color: #E2EBFA;\n",
              "      --hover-fill-color: #174EA6;\n",
              "      --disabled-fill-color: #AAA;\n",
              "      --disabled-bg-color: #DDD;\n",
              "  }\n",
              "\n",
              "  [theme=dark] .colab-df-quickchart {\n",
              "      --bg-color: #3B4455;\n",
              "      --fill-color: #D2E3FC;\n",
              "      --hover-bg-color: #434B5C;\n",
              "      --hover-fill-color: #FFFFFF;\n",
              "      --disabled-bg-color: #3B4455;\n",
              "      --disabled-fill-color: #666;\n",
              "  }\n",
              "\n",
              "  .colab-df-quickchart {\n",
              "    background-color: var(--bg-color);\n",
              "    border: none;\n",
              "    border-radius: 50%;\n",
              "    cursor: pointer;\n",
              "    display: none;\n",
              "    fill: var(--fill-color);\n",
              "    height: 32px;\n",
              "    padding: 0;\n",
              "    width: 32px;\n",
              "  }\n",
              "\n",
              "  .colab-df-quickchart:hover {\n",
              "    background-color: var(--hover-bg-color);\n",
              "    box-shadow: 0 1px 2px rgba(60, 64, 67, 0.3), 0 1px 3px 1px rgba(60, 64, 67, 0.15);\n",
              "    fill: var(--button-hover-fill-color);\n",
              "  }\n",
              "\n",
              "  .colab-df-quickchart-complete:disabled,\n",
              "  .colab-df-quickchart-complete:disabled:hover {\n",
              "    background-color: var(--disabled-bg-color);\n",
              "    fill: var(--disabled-fill-color);\n",
              "    box-shadow: none;\n",
              "  }\n",
              "\n",
              "  .colab-df-spinner {\n",
              "    border: 2px solid var(--fill-color);\n",
              "    border-color: transparent;\n",
              "    border-bottom-color: var(--fill-color);\n",
              "    animation:\n",
              "      spin 1s steps(1) infinite;\n",
              "  }\n",
              "\n",
              "  @keyframes spin {\n",
              "    0% {\n",
              "      border-color: transparent;\n",
              "      border-bottom-color: var(--fill-color);\n",
              "      border-left-color: var(--fill-color);\n",
              "    }\n",
              "    20% {\n",
              "      border-color: transparent;\n",
              "      border-left-color: var(--fill-color);\n",
              "      border-top-color: var(--fill-color);\n",
              "    }\n",
              "    30% {\n",
              "      border-color: transparent;\n",
              "      border-left-color: var(--fill-color);\n",
              "      border-top-color: var(--fill-color);\n",
              "      border-right-color: var(--fill-color);\n",
              "    }\n",
              "    40% {\n",
              "      border-color: transparent;\n",
              "      border-right-color: var(--fill-color);\n",
              "      border-top-color: var(--fill-color);\n",
              "    }\n",
              "    60% {\n",
              "      border-color: transparent;\n",
              "      border-right-color: var(--fill-color);\n",
              "    }\n",
              "    80% {\n",
              "      border-color: transparent;\n",
              "      border-right-color: var(--fill-color);\n",
              "      border-bottom-color: var(--fill-color);\n",
              "    }\n",
              "    90% {\n",
              "      border-color: transparent;\n",
              "      border-bottom-color: var(--fill-color);\n",
              "    }\n",
              "  }\n",
              "</style>\n",
              "\n",
              "  <script>\n",
              "    async function quickchart(key) {\n",
              "      const quickchartButtonEl =\n",
              "        document.querySelector('#' + key + ' button');\n",
              "      quickchartButtonEl.disabled = true;  // To prevent multiple clicks.\n",
              "      quickchartButtonEl.classList.add('colab-df-spinner');\n",
              "      try {\n",
              "        const charts = await google.colab.kernel.invokeFunction(\n",
              "            'suggestCharts', [key], {});\n",
              "      } catch (error) {\n",
              "        console.error('Error during call to suggestCharts:', error);\n",
              "      }\n",
              "      quickchartButtonEl.classList.remove('colab-df-spinner');\n",
              "      quickchartButtonEl.classList.add('colab-df-quickchart-complete');\n",
              "    }\n",
              "    (() => {\n",
              "      let quickchartButtonEl =\n",
              "        document.querySelector('#df-6510fbbe-3d79-4434-a70a-9f540990fea6 button');\n",
              "      quickchartButtonEl.style.display =\n",
              "        google.colab.kernel.accessAllowed ? 'block' : 'none';\n",
              "    })();\n",
              "  </script>\n",
              "</div>\n",
              "\n",
              "    </div>\n",
              "  </div>\n"
            ],
            "application/vnd.google.colaboratory.intrinsic+json": {
              "type": "dataframe"
            }
          },
          "metadata": {},
          "execution_count": 3
        }
      ]
    },
    {
      "cell_type": "markdown",
      "source": [
        "# *Data Exploration*"
      ],
      "metadata": {
        "id": "1eWql9GoDRpD"
      }
    },
    {
      "cell_type": "code",
      "source": [
        "# check the size (the number of rows and columns)\n",
        "df.shape"
      ],
      "metadata": {
        "colab": {
          "base_uri": "https://localhost:8080/"
        },
        "id": "Muk9094FDWif",
        "outputId": "3f623321-b081-4a83-d200-535328563b5e"
      },
      "execution_count": 4,
      "outputs": [
        {
          "output_type": "execute_result",
          "data": {
            "text/plain": [
              "(92, 22)"
            ]
          },
          "metadata": {},
          "execution_count": 4
        }
      ]
    },
    {
      "cell_type": "code",
      "source": [
        "# check the column names, count and datatype\n",
        "df.info()"
      ],
      "metadata": {
        "colab": {
          "base_uri": "https://localhost:8080/"
        },
        "id": "vhirrEzADdv8",
        "outputId": "c7e9e9c7-a1d1-48c7-ae79-7e14d1fe3fcb"
      },
      "execution_count": 5,
      "outputs": [
        {
          "output_type": "stream",
          "name": "stdout",
          "text": [
            "<class 'pandas.core.frame.DataFrame'>\n",
            "RangeIndex: 92 entries, 0 to 91\n",
            "Data columns (total 22 columns):\n",
            " #   Column                                  Non-Null Count  Dtype  \n",
            "---  ------                                  --------------  -----  \n",
            " 0   S/N                                     92 non-null     int64  \n",
            " 1   Age range                               92 non-null     object \n",
            " 2   Gender                                  92 non-null     object \n",
            " 3   Country                                 90 non-null     object \n",
            " 4   State                                   88 non-null     object \n",
            " 5   City                                    53 non-null     object \n",
            " 6   Occupation                              92 non-null     object \n",
            " 7   Current Ownership(laptop)               92 non-null     object \n",
            " 8   Reason for Not Owning(if No)            41 non-null     object \n",
            " 9   Interest in Refurbished/Donated Gadget  89 non-null     object \n",
            " 10  Old Gadgets Availability                92 non-null     object \n",
            " 11  Action on Old Gadgets                   71 non-null     object \n",
            " 12  Willingness to Donate                   85 non-null     object \n",
            " 13  Previous Platform Usage                 90 non-null     object \n",
            " 14  Platform Name(If yes)                   9 non-null      object \n",
            " 15  Likelihood of Future Usage              85 non-null     float64\n",
            " 16  Desired Features                        87 non-null     object \n",
            " 17  Other Features(if other)                6 non-null      object \n",
            " 18  Security Concern                        89 non-null     float64\n",
            " 19  Privacy Protection                      89 non-null     float64\n",
            " 20  Desired Security Features               39 non-null     object \n",
            " 21  Platform Improvement Suggestions        39 non-null     object \n",
            "dtypes: float64(3), int64(1), object(18)\n",
            "memory usage: 15.9+ KB\n"
          ]
        }
      ]
    },
    {
      "cell_type": "markdown",
      "source": [
        "# *Data Preprocessing*"
      ],
      "metadata": {
        "id": "LZlheaUqcUmN"
      }
    },
    {
      "cell_type": "code",
      "source": [
        "# check for missing values\n",
        "df.isnull().sum()"
      ],
      "metadata": {
        "colab": {
          "base_uri": "https://localhost:8080/"
        },
        "id": "LHTgMldMHLKe",
        "outputId": "27312952-94e2-45e3-a44d-daf05a17ed00"
      },
      "execution_count": 6,
      "outputs": [
        {
          "output_type": "execute_result",
          "data": {
            "text/plain": [
              "S/N                                        0\n",
              "Age range                                  0\n",
              "Gender                                     0\n",
              "Country                                    2\n",
              "State                                      4\n",
              "City                                      39\n",
              "Occupation                                 0\n",
              "Current Ownership(laptop)                  0\n",
              "Reason for Not Owning(if No)              51\n",
              "Interest in Refurbished/Donated Gadget     3\n",
              "Old Gadgets Availability                   0\n",
              "Action on Old Gadgets                     21\n",
              "Willingness to Donate                      7\n",
              "Previous Platform Usage                    2\n",
              "Platform Name(If yes)                     83\n",
              "Likelihood of Future Usage                 7\n",
              "Desired Features                           5\n",
              "Other Features(if other)                  86\n",
              "Security Concern                           3\n",
              "Privacy Protection                         3\n",
              "Desired Security Features                 53\n",
              "Platform Improvement Suggestions          53\n",
              "dtype: int64"
            ]
          },
          "metadata": {},
          "execution_count": 6
        }
      ]
    },
    {
      "cell_type": "code",
      "source": [
        "df[['Country', 'State', 'City']] = df[['Country', 'State', 'City']].fillna(method='ffill')\n",
        "df['Reason for Not Owning(if No)'] = df['Reason for Not Owning(if No)'].fillna('Not Provided')\n",
        "df['Interest in Refurbished/Donated Gadget'] = df['Interest in Refurbished/Donated Gadget'].fillna('Not Provided')\n",
        "df['Action on Old Gadgets'] = df['Action on Old Gadgets'].fillna('Not Provided')\n",
        "df['Willingness to Donate'] = df['Willingness to Donate'].fillna('Not Provided')\n",
        "df['Willingness to Donate'] = df['Willingness to Donate'].fillna('Not Provided')\n",
        "df['Platform Name(If yes)'] = df['Platform Name(If yes)'].fillna('None')\n",
        "df['Likelihood of Future Usage'] = df['Likelihood of Future Usage'].fillna('None')\n",
        "df['Desired Features'] = df['Desired Features'].fillna('None')\n",
        "df['Desired Security Features'] = df['Desired Security Features'].fillna('No Preference')\n",
        "df['Platform Improvement Suggestions'] = df['Platform Improvement Suggestions'].fillna('None')"
      ],
      "metadata": {
        "id": "5gFWcBm8HMrZ"
      },
      "execution_count": 7,
      "outputs": []
    },
    {
      "cell_type": "code",
      "source": [
        "df['Other Features(if other)'] = df['Other Features(if other)'].fillna('Not Provided')\n",
        "df['Security Concern'] = df['Security Concern'].fillna('Not Provided')\n",
        "df['Privacy Protection'] = df['Privacy Protection'].fillna('Not Provided')"
      ],
      "metadata": {
        "id": "2_wjHx-ZO4Du"
      },
      "execution_count": 8,
      "outputs": []
    },
    {
      "cell_type": "code",
      "source": [
        "# check for missing values\n",
        "df.isnull().sum()"
      ],
      "metadata": {
        "id": "8hOnI4eMO4TY",
        "colab": {
          "base_uri": "https://localhost:8080/"
        },
        "outputId": "a4fd2c4c-5cc7-414f-d6dc-95350843e56c"
      },
      "execution_count": 9,
      "outputs": [
        {
          "output_type": "execute_result",
          "data": {
            "text/plain": [
              "S/N                                       0\n",
              "Age range                                 0\n",
              "Gender                                    0\n",
              "Country                                   0\n",
              "State                                     0\n",
              "City                                      2\n",
              "Occupation                                0\n",
              "Current Ownership(laptop)                 0\n",
              "Reason for Not Owning(if No)              0\n",
              "Interest in Refurbished/Donated Gadget    0\n",
              "Old Gadgets Availability                  0\n",
              "Action on Old Gadgets                     0\n",
              "Willingness to Donate                     0\n",
              "Previous Platform Usage                   2\n",
              "Platform Name(If yes)                     0\n",
              "Likelihood of Future Usage                0\n",
              "Desired Features                          0\n",
              "Other Features(if other)                  0\n",
              "Security Concern                          0\n",
              "Privacy Protection                        0\n",
              "Desired Security Features                 0\n",
              "Platform Improvement Suggestions          0\n",
              "dtype: int64"
            ]
          },
          "metadata": {},
          "execution_count": 9
        }
      ]
    },
    {
      "cell_type": "code",
      "source": [
        "df[\"City\"].unique()"
      ],
      "metadata": {
        "id": "62eWJjRgO4XE",
        "colab": {
          "base_uri": "https://localhost:8080/"
        },
        "outputId": "363b9a84-56e6-4510-c9cc-b2df0463f0a3"
      },
      "execution_count": 10,
      "outputs": [
        {
          "output_type": "execute_result",
          "data": {
            "text/plain": [
              "array([nan, 'Ijebu ode', 'Ikenne Remo', 'Ibadan', 'London', 'Surulere',\n",
              "       'Ikorodu', 'Lagos Island', 'Plateau', 'Ogbomoso', 'Ondo',\n",
              "       'Alagbado', 'Magboro', 'Dallas', 'Warri', 'Oyo', 'Ile-Ife', 'Ogba',\n",
              "       'Ipaja', 'Ojo', 'Igboho', 'Agege', 'Benin', 'Port Harcourt',\n",
              "       'Birmingham', 'Osogbo'], dtype=object)"
            ]
          },
          "metadata": {},
          "execution_count": 10
        }
      ]
    },
    {
      "cell_type": "code",
      "source": [
        "df['City'] = df['City'].fillna('Unknown')"
      ],
      "metadata": {
        "id": "Gt_h9ycNQ6lP"
      },
      "execution_count": 11,
      "outputs": []
    },
    {
      "cell_type": "code",
      "source": [
        "df[\"Age range\"].unique()"
      ],
      "metadata": {
        "colab": {
          "base_uri": "https://localhost:8080/"
        },
        "id": "HCqN1lqA7NUa",
        "outputId": "2a1c931c-280b-4dd2-b685-d87b412e73c3"
      },
      "execution_count": 12,
      "outputs": [
        {
          "output_type": "execute_result",
          "data": {
            "text/plain": [
              "array(['31 and above', '18-24', '25- 30', 'By', '25-30', 'Under 18'],\n",
              "      dtype=object)"
            ]
          },
          "metadata": {},
          "execution_count": 12
        }
      ]
    },
    {
      "cell_type": "code",
      "source": [
        "#Replacing \"31 and above\" with \"Above31\",\n",
        "df[\"Age range\"] = df[\"Age range\"].replace(\"31 and above\", \"above31\")\n",
        "df[\"Age range\"] = df[\"Age range\"].replace(\"25- 30\", \"25-30\")\n",
        "df[\"Age range\"] = df[\"Age range\"].replace(\"Under 18\", \"below18\")\n",
        "df[\"Age range\"] = df[\"Age range\"].replace(\"By\", \"Rather not say\")"
      ],
      "metadata": {
        "id": "5aat3YkgDDSx"
      },
      "execution_count": 13,
      "outputs": []
    },
    {
      "cell_type": "code",
      "source": [
        "df[\"Likelihood of Future Usage\"].unique()"
      ],
      "metadata": {
        "colab": {
          "base_uri": "https://localhost:8080/"
        },
        "id": "-_LvIgLBV_A1",
        "outputId": "f5a36281-b97f-42c0-9ea5-edc1d19aec52"
      },
      "execution_count": 14,
      "outputs": [
        {
          "output_type": "execute_result",
          "data": {
            "text/plain": [
              "array([1.0, 4.0, 3.0, 5.0, 'None', 2.0], dtype=object)"
            ]
          },
          "metadata": {},
          "execution_count": 14
        }
      ]
    },
    {
      "cell_type": "code",
      "source": [
        "#Replacing \"31 and above\" with \"Above31\",\n",
        "df[\"Likelihood of Future Usage\"] = df[\"Likelihood of Future Usage\"].replace(1.0, \"Extremely Unlikely\")\n",
        "df[\"Likelihood of Future Usage\"] = df[\"Likelihood of Future Usage\"].replace(2.0, \"Unlikely\")\n",
        "df[\"Likelihood of Future Usage\"] = df[\"Likelihood of Future Usage\"].replace(3.0, \"Neutral\")\n",
        "df[\"Likelihood of Future Usage\"] = df[\"Likelihood of Future Usage\"].replace(4.0, \"Likely\")\n",
        "df[\"Likelihood of Future Usage\"] = df[\"Likelihood of Future Usage\"].replace(5.0, \"Extremely likely\")"
      ],
      "metadata": {
        "id": "OW7l-dTMCyBo"
      },
      "execution_count": 15,
      "outputs": []
    },
    {
      "cell_type": "code",
      "source": [
        "df[\"Previous Platform Usage\"].unique()"
      ],
      "metadata": {
        "colab": {
          "base_uri": "https://localhost:8080/"
        },
        "id": "0iF-jGwsARU0",
        "outputId": "76409837-27fb-40a0-a24f-53dfa4cebbf5"
      },
      "execution_count": 16,
      "outputs": [
        {
          "output_type": "execute_result",
          "data": {
            "text/plain": [
              "array(['No', 'Yes', nan], dtype=object)"
            ]
          },
          "metadata": {},
          "execution_count": 16
        }
      ]
    },
    {
      "cell_type": "code",
      "source": [
        "df['Previous Platform Usage'] = df['Previous Platform Usage'].fillna('No')"
      ],
      "metadata": {
        "id": "hIXFHWNwBKcA"
      },
      "execution_count": 17,
      "outputs": []
    },
    {
      "cell_type": "code",
      "source": [
        "# check for missing values\n",
        "df.isnull().sum()"
      ],
      "metadata": {
        "colab": {
          "base_uri": "https://localhost:8080/"
        },
        "id": "1X_Q4wp_4Gdw",
        "outputId": "4c8cca7a-e104-48fc-f981-9a6bb44ace80"
      },
      "execution_count": 18,
      "outputs": [
        {
          "output_type": "execute_result",
          "data": {
            "text/plain": [
              "S/N                                       0\n",
              "Age range                                 0\n",
              "Gender                                    0\n",
              "Country                                   0\n",
              "State                                     0\n",
              "City                                      0\n",
              "Occupation                                0\n",
              "Current Ownership(laptop)                 0\n",
              "Reason for Not Owning(if No)              0\n",
              "Interest in Refurbished/Donated Gadget    0\n",
              "Old Gadgets Availability                  0\n",
              "Action on Old Gadgets                     0\n",
              "Willingness to Donate                     0\n",
              "Previous Platform Usage                   0\n",
              "Platform Name(If yes)                     0\n",
              "Likelihood of Future Usage                0\n",
              "Desired Features                          0\n",
              "Other Features(if other)                  0\n",
              "Security Concern                          0\n",
              "Privacy Protection                        0\n",
              "Desired Security Features                 0\n",
              "Platform Improvement Suggestions          0\n",
              "dtype: int64"
            ]
          },
          "metadata": {},
          "execution_count": 18
        }
      ]
    },
    {
      "cell_type": "code",
      "source": [
        "#Checking for number of duplicates\n",
        "df.duplicated().sum()"
      ],
      "metadata": {
        "colab": {
          "base_uri": "https://localhost:8080/"
        },
        "id": "7821EX704RNC",
        "outputId": "abbd795d-c3fd-46ec-9d51-612c8b5438ba"
      },
      "execution_count": 19,
      "outputs": [
        {
          "output_type": "execute_result",
          "data": {
            "text/plain": [
              "0"
            ]
          },
          "metadata": {},
          "execution_count": 19
        }
      ]
    },
    {
      "cell_type": "code",
      "source": [
        "df.describe()"
      ],
      "metadata": {
        "colab": {
          "base_uri": "https://localhost:8080/",
          "height": 300
        },
        "id": "a5WZJZG64mpp",
        "outputId": "c74c5462-d340-4280-a20c-b689326ed7d6"
      },
      "execution_count": 20,
      "outputs": [
        {
          "output_type": "execute_result",
          "data": {
            "text/plain": [
              "            S/N\n",
              "count  92.00000\n",
              "mean   46.50000\n",
              "std    26.70206\n",
              "min     1.00000\n",
              "25%    23.75000\n",
              "50%    46.50000\n",
              "75%    69.25000\n",
              "max    92.00000"
            ],
            "text/html": [
              "\n",
              "  <div id=\"df-022b4b8d-e5b8-4234-b2cc-937e15872ecd\" class=\"colab-df-container\">\n",
              "    <div>\n",
              "<style scoped>\n",
              "    .dataframe tbody tr th:only-of-type {\n",
              "        vertical-align: middle;\n",
              "    }\n",
              "\n",
              "    .dataframe tbody tr th {\n",
              "        vertical-align: top;\n",
              "    }\n",
              "\n",
              "    .dataframe thead th {\n",
              "        text-align: right;\n",
              "    }\n",
              "</style>\n",
              "<table border=\"1\" class=\"dataframe\">\n",
              "  <thead>\n",
              "    <tr style=\"text-align: right;\">\n",
              "      <th></th>\n",
              "      <th>S/N</th>\n",
              "    </tr>\n",
              "  </thead>\n",
              "  <tbody>\n",
              "    <tr>\n",
              "      <th>count</th>\n",
              "      <td>92.00000</td>\n",
              "    </tr>\n",
              "    <tr>\n",
              "      <th>mean</th>\n",
              "      <td>46.50000</td>\n",
              "    </tr>\n",
              "    <tr>\n",
              "      <th>std</th>\n",
              "      <td>26.70206</td>\n",
              "    </tr>\n",
              "    <tr>\n",
              "      <th>min</th>\n",
              "      <td>1.00000</td>\n",
              "    </tr>\n",
              "    <tr>\n",
              "      <th>25%</th>\n",
              "      <td>23.75000</td>\n",
              "    </tr>\n",
              "    <tr>\n",
              "      <th>50%</th>\n",
              "      <td>46.50000</td>\n",
              "    </tr>\n",
              "    <tr>\n",
              "      <th>75%</th>\n",
              "      <td>69.25000</td>\n",
              "    </tr>\n",
              "    <tr>\n",
              "      <th>max</th>\n",
              "      <td>92.00000</td>\n",
              "    </tr>\n",
              "  </tbody>\n",
              "</table>\n",
              "</div>\n",
              "    <div class=\"colab-df-buttons\">\n",
              "\n",
              "  <div class=\"colab-df-container\">\n",
              "    <button class=\"colab-df-convert\" onclick=\"convertToInteractive('df-022b4b8d-e5b8-4234-b2cc-937e15872ecd')\"\n",
              "            title=\"Convert this dataframe to an interactive table.\"\n",
              "            style=\"display:none;\">\n",
              "\n",
              "  <svg xmlns=\"http://www.w3.org/2000/svg\" height=\"24px\" viewBox=\"0 -960 960 960\">\n",
              "    <path d=\"M120-120v-720h720v720H120Zm60-500h600v-160H180v160Zm220 220h160v-160H400v160Zm0 220h160v-160H400v160ZM180-400h160v-160H180v160Zm440 0h160v-160H620v160ZM180-180h160v-160H180v160Zm440 0h160v-160H620v160Z\"/>\n",
              "  </svg>\n",
              "    </button>\n",
              "\n",
              "  <style>\n",
              "    .colab-df-container {\n",
              "      display:flex;\n",
              "      gap: 12px;\n",
              "    }\n",
              "\n",
              "    .colab-df-convert {\n",
              "      background-color: #E8F0FE;\n",
              "      border: none;\n",
              "      border-radius: 50%;\n",
              "      cursor: pointer;\n",
              "      display: none;\n",
              "      fill: #1967D2;\n",
              "      height: 32px;\n",
              "      padding: 0 0 0 0;\n",
              "      width: 32px;\n",
              "    }\n",
              "\n",
              "    .colab-df-convert:hover {\n",
              "      background-color: #E2EBFA;\n",
              "      box-shadow: 0px 1px 2px rgba(60, 64, 67, 0.3), 0px 1px 3px 1px rgba(60, 64, 67, 0.15);\n",
              "      fill: #174EA6;\n",
              "    }\n",
              "\n",
              "    .colab-df-buttons div {\n",
              "      margin-bottom: 4px;\n",
              "    }\n",
              "\n",
              "    [theme=dark] .colab-df-convert {\n",
              "      background-color: #3B4455;\n",
              "      fill: #D2E3FC;\n",
              "    }\n",
              "\n",
              "    [theme=dark] .colab-df-convert:hover {\n",
              "      background-color: #434B5C;\n",
              "      box-shadow: 0px 1px 3px 1px rgba(0, 0, 0, 0.15);\n",
              "      filter: drop-shadow(0px 1px 2px rgba(0, 0, 0, 0.3));\n",
              "      fill: #FFFFFF;\n",
              "    }\n",
              "  </style>\n",
              "\n",
              "    <script>\n",
              "      const buttonEl =\n",
              "        document.querySelector('#df-022b4b8d-e5b8-4234-b2cc-937e15872ecd button.colab-df-convert');\n",
              "      buttonEl.style.display =\n",
              "        google.colab.kernel.accessAllowed ? 'block' : 'none';\n",
              "\n",
              "      async function convertToInteractive(key) {\n",
              "        const element = document.querySelector('#df-022b4b8d-e5b8-4234-b2cc-937e15872ecd');\n",
              "        const dataTable =\n",
              "          await google.colab.kernel.invokeFunction('convertToInteractive',\n",
              "                                                    [key], {});\n",
              "        if (!dataTable) return;\n",
              "\n",
              "        const docLinkHtml = 'Like what you see? Visit the ' +\n",
              "          '<a target=\"_blank\" href=https://colab.research.google.com/notebooks/data_table.ipynb>data table notebook</a>'\n",
              "          + ' to learn more about interactive tables.';\n",
              "        element.innerHTML = '';\n",
              "        dataTable['output_type'] = 'display_data';\n",
              "        await google.colab.output.renderOutput(dataTable, element);\n",
              "        const docLink = document.createElement('div');\n",
              "        docLink.innerHTML = docLinkHtml;\n",
              "        element.appendChild(docLink);\n",
              "      }\n",
              "    </script>\n",
              "  </div>\n",
              "\n",
              "\n",
              "<div id=\"df-d7c124cd-f14e-472a-a956-9fd66575460b\">\n",
              "  <button class=\"colab-df-quickchart\" onclick=\"quickchart('df-d7c124cd-f14e-472a-a956-9fd66575460b')\"\n",
              "            title=\"Suggest charts\"\n",
              "            style=\"display:none;\">\n",
              "\n",
              "<svg xmlns=\"http://www.w3.org/2000/svg\" height=\"24px\"viewBox=\"0 0 24 24\"\n",
              "     width=\"24px\">\n",
              "    <g>\n",
              "        <path d=\"M19 3H5c-1.1 0-2 .9-2 2v14c0 1.1.9 2 2 2h14c1.1 0 2-.9 2-2V5c0-1.1-.9-2-2-2zM9 17H7v-7h2v7zm4 0h-2V7h2v10zm4 0h-2v-4h2v4z\"/>\n",
              "    </g>\n",
              "</svg>\n",
              "  </button>\n",
              "\n",
              "<style>\n",
              "  .colab-df-quickchart {\n",
              "      --bg-color: #E8F0FE;\n",
              "      --fill-color: #1967D2;\n",
              "      --hover-bg-color: #E2EBFA;\n",
              "      --hover-fill-color: #174EA6;\n",
              "      --disabled-fill-color: #AAA;\n",
              "      --disabled-bg-color: #DDD;\n",
              "  }\n",
              "\n",
              "  [theme=dark] .colab-df-quickchart {\n",
              "      --bg-color: #3B4455;\n",
              "      --fill-color: #D2E3FC;\n",
              "      --hover-bg-color: #434B5C;\n",
              "      --hover-fill-color: #FFFFFF;\n",
              "      --disabled-bg-color: #3B4455;\n",
              "      --disabled-fill-color: #666;\n",
              "  }\n",
              "\n",
              "  .colab-df-quickchart {\n",
              "    background-color: var(--bg-color);\n",
              "    border: none;\n",
              "    border-radius: 50%;\n",
              "    cursor: pointer;\n",
              "    display: none;\n",
              "    fill: var(--fill-color);\n",
              "    height: 32px;\n",
              "    padding: 0;\n",
              "    width: 32px;\n",
              "  }\n",
              "\n",
              "  .colab-df-quickchart:hover {\n",
              "    background-color: var(--hover-bg-color);\n",
              "    box-shadow: 0 1px 2px rgba(60, 64, 67, 0.3), 0 1px 3px 1px rgba(60, 64, 67, 0.15);\n",
              "    fill: var(--button-hover-fill-color);\n",
              "  }\n",
              "\n",
              "  .colab-df-quickchart-complete:disabled,\n",
              "  .colab-df-quickchart-complete:disabled:hover {\n",
              "    background-color: var(--disabled-bg-color);\n",
              "    fill: var(--disabled-fill-color);\n",
              "    box-shadow: none;\n",
              "  }\n",
              "\n",
              "  .colab-df-spinner {\n",
              "    border: 2px solid var(--fill-color);\n",
              "    border-color: transparent;\n",
              "    border-bottom-color: var(--fill-color);\n",
              "    animation:\n",
              "      spin 1s steps(1) infinite;\n",
              "  }\n",
              "\n",
              "  @keyframes spin {\n",
              "    0% {\n",
              "      border-color: transparent;\n",
              "      border-bottom-color: var(--fill-color);\n",
              "      border-left-color: var(--fill-color);\n",
              "    }\n",
              "    20% {\n",
              "      border-color: transparent;\n",
              "      border-left-color: var(--fill-color);\n",
              "      border-top-color: var(--fill-color);\n",
              "    }\n",
              "    30% {\n",
              "      border-color: transparent;\n",
              "      border-left-color: var(--fill-color);\n",
              "      border-top-color: var(--fill-color);\n",
              "      border-right-color: var(--fill-color);\n",
              "    }\n",
              "    40% {\n",
              "      border-color: transparent;\n",
              "      border-right-color: var(--fill-color);\n",
              "      border-top-color: var(--fill-color);\n",
              "    }\n",
              "    60% {\n",
              "      border-color: transparent;\n",
              "      border-right-color: var(--fill-color);\n",
              "    }\n",
              "    80% {\n",
              "      border-color: transparent;\n",
              "      border-right-color: var(--fill-color);\n",
              "      border-bottom-color: var(--fill-color);\n",
              "    }\n",
              "    90% {\n",
              "      border-color: transparent;\n",
              "      border-bottom-color: var(--fill-color);\n",
              "    }\n",
              "  }\n",
              "</style>\n",
              "\n",
              "  <script>\n",
              "    async function quickchart(key) {\n",
              "      const quickchartButtonEl =\n",
              "        document.querySelector('#' + key + ' button');\n",
              "      quickchartButtonEl.disabled = true;  // To prevent multiple clicks.\n",
              "      quickchartButtonEl.classList.add('colab-df-spinner');\n",
              "      try {\n",
              "        const charts = await google.colab.kernel.invokeFunction(\n",
              "            'suggestCharts', [key], {});\n",
              "      } catch (error) {\n",
              "        console.error('Error during call to suggestCharts:', error);\n",
              "      }\n",
              "      quickchartButtonEl.classList.remove('colab-df-spinner');\n",
              "      quickchartButtonEl.classList.add('colab-df-quickchart-complete');\n",
              "    }\n",
              "    (() => {\n",
              "      let quickchartButtonEl =\n",
              "        document.querySelector('#df-d7c124cd-f14e-472a-a956-9fd66575460b button');\n",
              "      quickchartButtonEl.style.display =\n",
              "        google.colab.kernel.accessAllowed ? 'block' : 'none';\n",
              "    })();\n",
              "  </script>\n",
              "</div>\n",
              "\n",
              "    </div>\n",
              "  </div>\n"
            ],
            "application/vnd.google.colaboratory.intrinsic+json": {
              "type": "dataframe",
              "summary": "{\n  \"name\": \"df\",\n  \"rows\": 8,\n  \"fields\": [\n    {\n      \"column\": \"S/N\",\n      \"properties\": {\n        \"dtype\": \"number\",\n        \"std\": 32.85304715007886,\n        \"min\": 1.0,\n        \"max\": 92.0,\n        \"num_unique_values\": 6,\n        \"samples\": [\n          92.0,\n          46.5,\n          69.25\n        ],\n        \"semantic_type\": \"\",\n        \"description\": \"\"\n      }\n    }\n  ]\n}"
            }
          },
          "metadata": {},
          "execution_count": 20
        }
      ]
    },
    {
      "cell_type": "markdown",
      "source": [
        "# *Exploratory Data Analysis*"
      ],
      "metadata": {
        "id": "XRBkOVdhchQY"
      }
    },
    {
      "cell_type": "markdown",
      "source": [
        "We will be considering the distribution and correlation of Gender, Age range,State, City, Occupation,\n",
        "       Current Ownership(laptop), Reason for Not Owning(if No),\n",
        "       Interest in Refurbished/Donated Gadget, Old Gadgets Availability,Action on Old Gadgets, Willingness to Donate,\n",
        "       Previous Platform Usage, Platform Name(If yes),\n",
        "       Likelihood of Future Usage, Desired Features,\n",
        "       Other Features(if other), Security Concern, Privacy Protection,\n",
        "       Desired Security Features and Platform Improvement Suggestions"
      ],
      "metadata": {
        "id": "0wq8rBbB9k1B"
      }
    },
    {
      "cell_type": "code",
      "source": [
        "df.columns"
      ],
      "metadata": {
        "colab": {
          "base_uri": "https://localhost:8080/"
        },
        "id": "9o5Sixtd9nnY",
        "outputId": "40856b21-8d3a-468c-9ceb-ad7effcfa226"
      },
      "execution_count": 21,
      "outputs": [
        {
          "output_type": "execute_result",
          "data": {
            "text/plain": [
              "Index(['S/N', 'Age range', 'Gender', 'Country', 'State', 'City', 'Occupation',\n",
              "       'Current Ownership(laptop)', 'Reason for Not Owning(if No)',\n",
              "       'Interest in Refurbished/Donated Gadget', 'Old Gadgets Availability',\n",
              "       'Action on Old Gadgets', 'Willingness to Donate',\n",
              "       'Previous Platform Usage', 'Platform Name(If yes)',\n",
              "       'Likelihood of Future Usage', 'Desired Features',\n",
              "       'Other Features(if other)', 'Security Concern', 'Privacy Protection',\n",
              "       'Desired Security Features', 'Platform Improvement Suggestions'],\n",
              "      dtype='object')"
            ]
          },
          "metadata": {},
          "execution_count": 21
        }
      ]
    },
    {
      "cell_type": "code",
      "source": [
        "from sys import getfilesystemencodeerrors\n",
        "import matplotlib.pyplot as plt\n",
        "\n",
        "#create using subplots\n",
        "\n",
        "fig,axs = plt.subplots(1,3, figsize=(15,4))\n",
        "#start to fill each subplot:\n",
        "#subplot1[0]: [0] pieplot\n",
        "GenderAct=df[\"Gender\"].value_counts()\n",
        "axs[0].pie(GenderAct.values, labels=GenderAct.index, colors=['green', 'grey'], autopct=\"%1.1f%%\")\n",
        "axs[0].set_title(\"Distribution by Gender\")\n",
        "\n",
        "#subplot2 [1]: [1] barplot\n",
        "Age_counts = df[\"Age range\"].value_counts()\n",
        "axs[1].bar(Age_counts.index, Age_counts.values, color=\"green\")\n",
        "axs[1].set_title(\"Distribution by Age range\")\n",
        "\n",
        "#subplot3[2]: [2] barplot\n",
        "Occupation_dist = df[\"Occupation\"].value_counts()\n",
        "axs[2].bar(Occupation_dist.index, Occupation_dist.values, color=\"green\")\n",
        "axs[2].set_title(\"Distribution by Occupation\")\n",
        "\n",
        "plt.show()\n",
        "\n"
      ],
      "metadata": {
        "colab": {
          "base_uri": "https://localhost:8080/",
          "height": 379
        },
        "id": "JK9ZO54P91_j",
        "outputId": "bcf2aba0-66e2-42bf-8b2c-9bd511ed7838"
      },
      "execution_count": 22,
      "outputs": [
        {
          "output_type": "display_data",
          "data": {
            "text/plain": [
              "<Figure size 1500x400 with 3 Axes>"
            ],
            "image/png": "[encoded data removed]"
          },
          "metadata": {}
        }
      ]
    },
    {
      "cell_type": "code",
      "source": [
        "df[\"Age range\"].value_counts()"
      ],
      "metadata": {
        "colab": {
          "base_uri": "https://localhost:8080/"
        },
        "id": "srvttrp6ELtS",
        "outputId": "484a1eae-141e-408f-90f3-7bc0a694773e"
      },
      "execution_count": 23,
      "outputs": [
        {
          "output_type": "execute_result",
          "data": {
            "text/plain": [
              "Age range\n",
              "25-30             39\n",
              "above31           27\n",
              "18-24             24\n",
              "Rather not say     1\n",
              "below18            1\n",
              "Name: count, dtype: int64"
            ]
          },
          "metadata": {},
          "execution_count": 23
        }
      ]
    },
    {
      "cell_type": "markdown",
      "source": [
        "Insight 1: The distribution of respondents shows that 63% are female and 37% are male, indicating a higher number of female respondents compared to male respondents in our survey.\n",
        "\n",
        "Insight 2:The majority of respondents are above 31 years old, followed by those in the 18-24 age range. There is only one respondent below the age of 18. This suggests that individuals below the age of 18 may have limited access to laptops or are less likely to participate in laptop recycling programs.\n",
        "\n",
        "\n",
        "Insight 3: The data indicates a higher number of employed respondents, followed by students. To optimize our efforts, we should focus more on engaging employed individuals and students in our initiatives.\n"
      ],
      "metadata": {
        "id": "5h3dvMCSEWM8"
      }
    },
    {
      "cell_type": "code",
      "source": [
        "#Distribution by state using countplot\n",
        "State_count= df['State'].value_counts()[:10]\n",
        "State_count"
      ],
      "metadata": {
        "colab": {
          "base_uri": "https://localhost:8080/"
        },
        "id": "ACpBDEEmT3T1",
        "outputId": "101fd758-00be-4db5-8814-b3348d846b21"
      },
      "execution_count": 24,
      "outputs": [
        {
          "output_type": "execute_result",
          "data": {
            "text/plain": [
              "State\n",
              "Oyo       33\n",
              "Lagos     31\n",
              "Ogun       8\n",
              "Abuja      5\n",
              "Delta      3\n",
              "Osun       3\n",
              "Edo        2\n",
              "Ondo       2\n",
              "London     1\n",
              "Jos        1\n",
              "Name: count, dtype: int64"
            ]
          },
          "metadata": {},
          "execution_count": 24
        }
      ]
    },
    {
      "cell_type": "code",
      "source": [
        "# using barplot\n",
        "sns.set(style=\"whitegrid\")\n",
        "plt.figure(figsize=(8, 6))  # Set the height and width of the plot\n",
        "sns.barplot(y=State_count.index, x=State_count, color='green')  # Set the color of the bars to green\n",
        "plt.ylabel(\"States\")\n",
        "plt.xlabel(\"Count\")\n",
        "plt.title(\"Top 10 States\")\n",
        "plt.show()"
      ],
      "metadata": {
        "colab": {
          "base_uri": "https://localhost:8080/",
          "height": 573
        },
        "id": "norkS2Xu8o_P",
        "outputId": "d0a66055-c9ff-447e-8206-0846fa091059"
      },
      "execution_count": 25,
      "outputs": [
        {
          "output_type": "display_data",
          "data": {
            "text/plain": [
              "<Figure size 800x600 with 1 Axes>"
            ],
            "image/png": "[encoded data removed]"
          },
          "metadata": {}
        }
      ]
    },
    {
      "cell_type": "markdown",
      "source": [
        "*Insight: Based on the analysis, it appears that we have a higher number of respondents from Oyo, Lagos, Ogun, and Abuja compared to Jos, Edo, Ondo and London. This suggests that we should prioritize focusing on the locations where we have a higher number of respondents.*\n",
        "\n",
        "\n",
        "\n",
        "\n"
      ],
      "metadata": {
        "id": "XSzQyxc4G1Mv"
      }
    },
    {
      "cell_type": "code",
      "source": [
        "#Distribution by city using countplot\n",
        "City_count= df['City'].value_counts()[:10]\n",
        "City_count"
      ],
      "metadata": {
        "colab": {
          "base_uri": "https://localhost:8080/"
        },
        "id": "1-i_L_hGdoQX",
        "outputId": "cd5b8e80-ddb8-4394-c50f-418088f13031"
      },
      "execution_count": 26,
      "outputs": [
        {
          "output_type": "execute_result",
          "data": {
            "text/plain": [
              "City\n",
              "Ibadan       25\n",
              "Ogbomoso     18\n",
              "Ikorodu       6\n",
              "Surulere      5\n",
              "Ijebu ode     4\n",
              "Ile-Ife       4\n",
              "Warri         4\n",
              "Ojo           3\n",
              "Unknown       2\n",
              "Agege         2\n",
              "Name: count, dtype: int64"
            ]
          },
          "metadata": {},
          "execution_count": 26
        }
      ]
    },
    {
      "cell_type": "code",
      "source": [
        "# using barplot\n",
        "sns.set(style=\"whitegrid\")\n",
        "plt.figure(figsize=(8, 6))  # Set the height and width of the plot\n",
        "sns.barplot(y=City_count.index, x=City_count, color='green')  # Set the color of the bars to green\n",
        "plt.ylabel(\"City\")\n",
        "plt.xlabel(\"Count\")\n",
        "plt.title(\"Top 10 Cities\")\n",
        "plt.show()"
      ],
      "metadata": {
        "colab": {
          "base_uri": "https://localhost:8080/",
          "height": 573
        },
        "id": "Zm4RchIU9nwT",
        "outputId": "1a0b4504-46d8-4304-a2e8-60484d9e988e"
      },
      "execution_count": 27,
      "outputs": [
        {
          "output_type": "display_data",
          "data": {
            "text/plain": [
              "<Figure size 800x600 with 1 Axes>"
            ],
            "image/png": "[encoded data removed]"
          },
          "metadata": {}
        }
      ]
    },
    {
      "cell_type": "markdown",
      "source": [
        "*Insight: Based on the analysis, it appears that we have a higher number of respondents from Ibadan, Ogbomoso, Ikorodu, and Surulere compared to Agege and Ojo. This suggests that we should prioritize focusing on this cities where we have a higher number of respondents.*"
      ],
      "metadata": {
        "id": "_HjuWMKvxF_b"
      }
    },
    {
      "cell_type": "code",
      "source": [
        "#Using countplot, let's visualize the laptop ownership distribution\n",
        "# Set the Seaborn style to white background\n",
        "sns.set_style(\"whitegrid\")\n",
        "\n",
        "# Set the color palette to green and white\n",
        "sns.set_palette(sns.color_palette([\"green\", \"white\"]))\n",
        "\n",
        "# Figure size\n",
        "plt.figure(figsize=(6, 4))\n",
        "\n",
        "# Create the count plot\n",
        "ax = sns.countplot(x='Current Ownership(laptop)', data=df, order=df['Current Ownership(laptop)'].value_counts().index)\n",
        "\n",
        "# Add title\n",
        "plt.title('Laptop Ownership', fontsize=18)\n",
        "\n",
        "plt.show()\n"
      ],
      "metadata": {
        "colab": {
          "base_uri": "https://localhost:8080/",
          "height": 424
        },
        "id": "FzMXTBTD6Ioq",
        "outputId": "77c2b7a2-0939-45d4-ca7f-1a87bb0bef42"
      },
      "execution_count": 28,
      "outputs": [
        {
          "output_type": "display_data",
          "data": {
            "text/plain": [
              "<Figure size 600x400 with 1 Axes>"
            ],
            "image/png": "[encoded data removed]"
          },
          "metadata": {}
        }
      ]
    },
    {
      "cell_type": "code",
      "source": [
        "df[\"Current Ownership(laptop)\"].value_counts()"
      ],
      "metadata": {
        "colab": {
          "base_uri": "https://localhost:8080/"
        },
        "id": "wGGjjIakJRlW",
        "outputId": "a4e9a6e0-040f-4d79-fd4b-e5778134c241"
      },
      "execution_count": 29,
      "outputs": [
        {
          "output_type": "execute_result",
          "data": {
            "text/plain": [
              "Current Ownership(laptop)\n",
              "Yes    58\n",
              "No     34\n",
              "Name: count, dtype: int64"
            ]
          },
          "metadata": {},
          "execution_count": 29
        }
      ]
    },
    {
      "cell_type": "markdown",
      "source": [
        "*Insight: Out of our respondents, 58 own a laptop, while 34 do not. This distribution suggests that a majority of respondents own laptops, which could be advantageous for initiatives of targeting laptop-related cycling.*"
      ],
      "metadata": {
        "id": "tneX5D37JkAN"
      }
    },
    {
      "cell_type": "code",
      "source": [
        "#Visualizing reason for not owning a laptop using countplot\n",
        "# Set the Seaborn style to white background\n",
        "sns.set_style(\"whitegrid\")\n",
        "\n",
        "# Set the color palette to green and white\n",
        "sns.set_palette(sns.color_palette([\"green\", \"white\"]))\n",
        "#Figure size\n",
        "plt.figure(figsize=(6,4))\n",
        "# Create the count plot\n",
        "ax = sns.countplot(x='Reason for Not Owning(if No)', data=df, order=df['Reason for Not Owning(if No)'].value_counts().index)\n",
        "\n",
        "#Add title\n",
        "plt.title('Reason for not Owning Laptop', fontsize=18)"
      ],
      "metadata": {
        "colab": {
          "base_uri": "https://localhost:8080/",
          "height": 441
        },
        "id": "e3rfFmj0Kab5",
        "outputId": "30a2f05c-7bc0-4cbe-df91-58e68d97638e"
      },
      "execution_count": 30,
      "outputs": [
        {
          "output_type": "execute_result",
          "data": {
            "text/plain": [
              "Text(0.5, 1.0, 'Reason for not Owning Laptop')"
            ]
          },
          "metadata": {},
          "execution_count": 30
        },
        {
          "output_type": "display_data",
          "data": {
            "text/plain": [
              "<Figure size 600x400 with 1 Axes>"
            ],
            "image/png": "[encoded data removed]"
          },
          "metadata": {}
        }
      ]
    },
    {
      "cell_type": "code",
      "source": [
        "df[\"Reason for Not Owning(if No)\"].value_counts()"
      ],
      "metadata": {
        "colab": {
          "base_uri": "https://localhost:8080/"
        },
        "id": "DSKZAjEyLFFQ",
        "outputId": "652dc3b9-997b-4971-dcfd-7dd6e45887b0"
      },
      "execution_count": 31,
      "outputs": [
        {
          "output_type": "execute_result",
          "data": {
            "text/plain": [
              "Reason for Not Owning(if No)\n",
              "Not Provided             51\n",
              "Financial constriants    32\n",
              "Other                     8\n",
              "Lack of awareness         1\n",
              "Name: count, dtype: int64"
            ]
          },
          "metadata": {},
          "execution_count": 31
        }
      ]
    },
    {
      "cell_type": "markdown",
      "source": [
        "*Insight: From this analysis, it can be deduced that 51 respondents did not provide any information about laptop ownership. Assuming that respondents who did not provide information own a laptop based on the previous analysis, 32 respondents do not own a laptop due to financial constraints, and 8 have other reasons that were not stated.*"
      ],
      "metadata": {
        "id": "rsiywQqxLMpc"
      }
    },
    {
      "cell_type": "code",
      "source": [
        "#Visualizing using pie chart, availability of old gadgets\n",
        "old_gadget = df[\"Old Gadgets Availability\"].value_counts()\n",
        "plt.pie(old_gadget, labels = old_gadget.index, colors= ['green','grey'] , autopct=\"%1.1f%%\")\n",
        "plt.title(\"Old Gadgets Availability\")\n",
        "\n",
        "#add a circle at the center to transform it in a donut chart\n",
        "my_circle=plt.Circle( (0,0), 0.4, color= \"white\")\n",
        "p =plt.gcf()\n",
        "p.gca().add_artist(my_circle)\n",
        "plt.show()"
      ],
      "metadata": {
        "colab": {
          "base_uri": "https://localhost:8080/",
          "height": 428
        },
        "id": "bSTM35TKM3MM",
        "outputId": "7e89b2db-1041-4ce7-fe93-e77f32019de2"
      },
      "execution_count": 32,
      "outputs": [
        {
          "output_type": "display_data",
          "data": {
            "text/plain": [
              "<Figure size 640x480 with 1 Axes>"
            ],
            "image/png": "[encoded data removed]"
          },
          "metadata": {}
        }
      ]
    },
    {
      "cell_type": "code",
      "source": [
        "df[\"Old Gadgets Availability\"].value_counts()"
      ],
      "metadata": {
        "colab": {
          "base_uri": "https://localhost:8080/"
        },
        "id": "5gKa4K6pOHAn",
        "outputId": "44cb95bf-fb71-4fab-e457-8d54c7414a41"
      },
      "execution_count": 33,
      "outputs": [
        {
          "output_type": "execute_result",
          "data": {
            "text/plain": [
              "Old Gadgets Availability\n",
              "Yes    46\n",
              "No     46\n",
              "Name: count, dtype: int64"
            ]
          },
          "metadata": {},
          "execution_count": 33
        }
      ]
    },
    {
      "cell_type": "markdown",
      "source": [
        "*Insight: Half of our respondents (50%) have access to old gadgets, while the other half does not have access to old gadgets.*"
      ],
      "metadata": {
        "id": "ms0rp8ZEOWvA"
      }
    },
    {
      "cell_type": "code",
      "source": [
        "#using countplot, we visualize the distribution of our respondents interest in refurbished /donated gadgets\n",
        "# Set the Seaborn style to white background\n",
        "sns.set_style(\"whitegrid\")\n",
        "\n",
        "# Set the color palette to green and white\n",
        "sns.set_palette(sns.color_palette([\"green\", \"white\"]))\n",
        "#Figure size\n",
        "plt.figure(figsize=(6,4))\n",
        "ax = sns.countplot(x = 'Interest in Refurbished/Donated Gadget', data = df, order = df['Interest in Refurbished/Donated Gadget'].value_counts().index)\n",
        "#Add title\n",
        "plt.title('Interest in Refurbish/Donated Gadget', fontsize=18)"
      ],
      "metadata": {
        "colab": {
          "base_uri": "https://localhost:8080/",
          "height": 441
        },
        "id": "a398hKB7PAKu",
        "outputId": "609171a0-e92f-426e-b442-b32e1a9ee2b7"
      },
      "execution_count": 34,
      "outputs": [
        {
          "output_type": "execute_result",
          "data": {
            "text/plain": [
              "Text(0.5, 1.0, 'Interest in Refurbish/Donated Gadget')"
            ]
          },
          "metadata": {},
          "execution_count": 34
        },
        {
          "output_type": "display_data",
          "data": {
            "text/plain": [
              "<Figure size 600x400 with 1 Axes>"
            ],
            "image/png": "[encoded data removed]"
          },
          "metadata": {}
        }
      ]
    },
    {
      "cell_type": "code",
      "source": [
        "df[\"Interest in Refurbished/Donated Gadget\"].value_counts()"
      ],
      "metadata": {
        "colab": {
          "base_uri": "https://localhost:8080/"
        },
        "id": "rNLO5YSbPoV8",
        "outputId": "bff1fed5-5c90-4e37-c530-b615c7926519"
      },
      "execution_count": 35,
      "outputs": [
        {
          "output_type": "execute_result",
          "data": {
            "text/plain": [
              "Interest in Refurbished/Donated Gadget\n",
              "Yes             67\n",
              "Maybe           16\n",
              "No               6\n",
              "Not Provided     3\n",
              "Name: count, dtype: int64"
            ]
          },
          "metadata": {},
          "execution_count": 35
        }
      ]
    },
    {
      "cell_type": "markdown",
      "source": [
        "*Insight: 67 respondents are interested in refurbished and donated gadgets, while 16 are indecisive. This suggests that there is significant interest in this initiative among potential beneficiaries.*"
      ],
      "metadata": {
        "id": "qLKK3afmPvWo"
      }
    },
    {
      "cell_type": "code",
      "source": [
        "Action_on_Old_Gadgets_count= df['Action on Old Gadgets'].value_counts()\n",
        "Action_on_Old_Gadgets_count"
      ],
      "metadata": {
        "colab": {
          "base_uri": "https://localhost:8080/"
        },
        "id": "O6R1559CSUqb",
        "outputId": "cf9b8dfd-1ee7-4c1b-a599-81b85bbbfa93"
      },
      "execution_count": 36,
      "outputs": [
        {
          "output_type": "execute_result",
          "data": {
            "text/plain": [
              "Action on Old Gadgets\n",
              "I abandon them       23\n",
              "Not Provided         21\n",
              "Other                15\n",
              "I donate them        13\n",
              "I sell them          11\n",
              "I swap them           8\n",
              "I throw them away     1\n",
              "Name: count, dtype: int64"
            ]
          },
          "metadata": {},
          "execution_count": 36
        }
      ]
    },
    {
      "cell_type": "code",
      "source": [
        "# using barplot\n",
        "sns.set(style=\"whitegrid\")\n",
        "plt.figure(figsize=(8, 6))  # Set the height and width of the plot\n",
        "sns.barplot(y=Action_on_Old_Gadgets_count.index, x=Action_on_Old_Gadgets_count, color='green')  # Set the color of the bars to green\n",
        "plt.ylabel(\"Action\")\n",
        "plt.xlabel(\"Count\")\n",
        "plt.title(\"Action on old Gadgets\")\n",
        "plt.show()"
      ],
      "metadata": {
        "colab": {
          "base_uri": "https://localhost:8080/",
          "height": 573
        },
        "id": "cQY6yx-V-nKP",
        "outputId": "177b8aa0-f26a-470f-fd65-d7bb52d322bd"
      },
      "execution_count": 37,
      "outputs": [
        {
          "output_type": "display_data",
          "data": {
            "text/plain": [
              "<Figure size 800x600 with 1 Axes>"
            ],
            "image/png": "[encoded data removed]"
          },
          "metadata": {}
        }
      ]
    },
    {
      "cell_type": "markdown",
      "source": [
        "*Insight: 23 respondents abandoned their old gadgets, while 21 did not provide any information about their old gadgets. Only a few respondents donated, sold, or swapped their old gadgets, highlighting a potential area for improvement in encouraging reuse or proper disposal of old electronics.*"
      ],
      "metadata": {
        "id": "8-RisgvTyM54"
      }
    },
    {
      "cell_type": "code",
      "source": [
        "likelihood_of_future_usage_count= df['Likelihood of Future Usage'].value_counts()\n",
        "likelihood_of_future_usage_count"
      ],
      "metadata": {
        "colab": {
          "base_uri": "https://localhost:8080/"
        },
        "id": "h8Cv9jt6VOXT",
        "outputId": "d80925ed-5a23-4ce9-a3b5-5ce011ab5245"
      },
      "execution_count": 38,
      "outputs": [
        {
          "output_type": "execute_result",
          "data": {
            "text/plain": [
              "Likelihood of Future Usage\n",
              "Neutral               25\n",
              "Likely                24\n",
              "Extremely likely      21\n",
              "Extremely Unlikely     9\n",
              "None                   7\n",
              "Unlikely               6\n",
              "Name: count, dtype: int64"
            ]
          },
          "metadata": {},
          "execution_count": 38
        }
      ]
    },
    {
      "cell_type": "code",
      "source": [
        "# using barplot\n",
        "sns.set(style=\"whitegrid\")\n",
        "plt.figure(figsize=(8, 6))  # Set the height and width of the plot\n",
        "sns.barplot(y=likelihood_of_future_usage_count.index, x=likelihood_of_future_usage_count, color='green')  # Set the color of the bars to green\n",
        "plt.ylabel(\"Future Usage \")\n",
        "plt.xlabel(\"Count\")\n",
        "plt.title(\"Likelihood of future Usage\")\n",
        "plt.show()"
      ],
      "metadata": {
        "colab": {
          "base_uri": "https://localhost:8080/",
          "height": 573
        },
        "id": "B_Wj9aNU_S9r",
        "outputId": "39594169-75f0-4972-9356-30ac1d5acfae"
      },
      "execution_count": 39,
      "outputs": [
        {
          "output_type": "display_data",
          "data": {
            "text/plain": [
              "<Figure size 800x600 with 1 Axes>"
            ],
            "image/png": "[encoded data removed]"
          },
          "metadata": {}
        }
      ]
    },
    {
      "cell_type": "markdown",
      "source": [
        "*Insight: From our analysis, we can infer that a significant portion of our respondents are neutral and show a likelihood of using the platform in the future.*"
      ],
      "metadata": {
        "id": "FbY4bmLagidG"
      }
    },
    {
      "cell_type": "markdown",
      "source": [
        "## *Correlation between two Variables*"
      ],
      "metadata": {
        "id": "O9gyApAa1CeY"
      }
    },
    {
      "cell_type": "code",
      "source": [
        "df.columns"
      ],
      "metadata": {
        "colab": {
          "base_uri": "https://localhost:8080/"
        },
        "id": "FynpZ_RIxp4Q",
        "outputId": "703e8396-6e7a-4bea-a492-f172f21c436b"
      },
      "execution_count": 40,
      "outputs": [
        {
          "output_type": "execute_result",
          "data": {
            "text/plain": [
              "Index(['S/N', 'Age range', 'Gender', 'Country', 'State', 'City', 'Occupation',\n",
              "       'Current Ownership(laptop)', 'Reason for Not Owning(if No)',\n",
              "       'Interest in Refurbished/Donated Gadget', 'Old Gadgets Availability',\n",
              "       'Action on Old Gadgets', 'Willingness to Donate',\n",
              "       'Previous Platform Usage', 'Platform Name(If yes)',\n",
              "       'Likelihood of Future Usage', 'Desired Features',\n",
              "       'Other Features(if other)', 'Security Concern', 'Privacy Protection',\n",
              "       'Desired Security Features', 'Platform Improvement Suggestions'],\n",
              "      dtype='object')"
            ]
          },
          "metadata": {},
          "execution_count": 40
        }
      ]
    },
    {
      "cell_type": "code",
      "source": [
        "df.info()"
      ],
      "metadata": {
        "colab": {
          "base_uri": "https://localhost:8080/"
        },
        "id": "K25Sj0hy0kQh",
        "outputId": "756d4775-34f6-4f91-d7c8-921e95830a12"
      },
      "execution_count": 41,
      "outputs": [
        {
          "output_type": "stream",
          "name": "stdout",
          "text": [
            "<class 'pandas.core.frame.DataFrame'>\n",
            "RangeIndex: 92 entries, 0 to 91\n",
            "Data columns (total 22 columns):\n",
            " #   Column                                  Non-Null Count  Dtype \n",
            "---  ------                                  --------------  ----- \n",
            " 0   S/N                                     92 non-null     int64 \n",
            " 1   Age range                               92 non-null     object\n",
            " 2   Gender                                  92 non-null     object\n",
            " 3   Country                                 92 non-null     object\n",
            " 4   State                                   92 non-null     object\n",
            " 5   City                                    92 non-null     object\n",
            " 6   Occupation                              92 non-null     object\n",
            " 7   Current Ownership(laptop)               92 non-null     object\n",
            " 8   Reason for Not Owning(if No)            92 non-null     object\n",
            " 9   Interest in Refurbished/Donated Gadget  92 non-null     object\n",
            " 10  Old Gadgets Availability                92 non-null     object\n",
            " 11  Action on Old Gadgets                   92 non-null     object\n",
            " 12  Willingness to Donate                   92 non-null     object\n",
            " 13  Previous Platform Usage                 92 non-null     object\n",
            " 14  Platform Name(If yes)                   92 non-null     object\n",
            " 15  Likelihood of Future Usage              92 non-null     object\n",
            " 16  Desired Features                        92 non-null     object\n",
            " 17  Other Features(if other)                92 non-null     object\n",
            " 18  Security Concern                        92 non-null     object\n",
            " 19  Privacy Protection                      92 non-null     object\n",
            " 20  Desired Security Features               92 non-null     object\n",
            " 21  Platform Improvement Suggestions        92 non-null     object\n",
            "dtypes: int64(1), object(21)\n",
            "memory usage: 15.9+ KB\n"
          ]
        }
      ]
    },
    {
      "cell_type": "markdown",
      "source": [
        "Correlation between occupation and Laptop ownership"
      ],
      "metadata": {
        "id": "avXOnI3mh6zx"
      }
    },
    {
      "cell_type": "code",
      "source": [
        "#countplot for Current ownership(Laptop) and Occupation:\n",
        "# Set the Seaborn style to white background\n",
        "sns.set_style(\"darkgrid\")\n",
        "\n",
        "# Set the color palette to green and grey\n",
        "colors = [\"green\", \"grey\"]\n",
        "sns.set_palette(sns.color_palette(colors))\n",
        "sns.countplot(df, x= df[\"Current Ownership(laptop)\"], hue=\"Occupation\",\n",
        "              palette={\"Employed\": \"green\", \"Student\": \"grey\", \"Unemployed\":\"yellow\", \"Self employed\": \"black\"})\n",
        "plt.xlabel(\"Laptop Ownership\")\n",
        "plt.ylabel(\"Count\")\n",
        "plt.title(\"Laptop ownership by occupation\")"
      ],
      "metadata": {
        "colab": {
          "base_uri": "https://localhost:8080/",
          "height": 497
        },
        "id": "2e-lVc241eK1",
        "outputId": "4c75d291-a119-46ca-8349-512a56d0df97"
      },
      "execution_count": 42,
      "outputs": [
        {
          "output_type": "execute_result",
          "data": {
            "text/plain": [
              "Text(0.5, 1.0, 'Laptop ownership by occupation')"
            ]
          },
          "metadata": {},
          "execution_count": 42
        },
        {
          "output_type": "display_data",
          "data": {
            "text/plain": [
              "<Figure size 640x480 with 1 Axes>"
            ],
            "image/png": "[encoded data removed]"
          },
          "metadata": {}
        }
      ]
    },
    {
      "cell_type": "code",
      "source": [
        "df[\"Occupation\"].value_counts()"
      ],
      "metadata": {
        "colab": {
          "base_uri": "https://localhost:8080/"
        },
        "id": "LELh7T9D2m98",
        "outputId": "ace82dfd-6bc4-4b48-e5df-74c22ea74ac7"
      },
      "execution_count": 43,
      "outputs": [
        {
          "output_type": "execute_result",
          "data": {
            "text/plain": [
              "Occupation\n",
              "Employed         44\n",
              "Student          33\n",
              "Unemployed        8\n",
              "Self employed     7\n",
              "Name: count, dtype: int64"
            ]
          },
          "metadata": {},
          "execution_count": 43
        }
      ]
    },
    {
      "cell_type": "markdown",
      "source": [
        "*Insight: Among respondents, the majority are employed and own a laptop, while students are more likely to not own a laptop.This suggests that occupation may influence laptop ownership.*"
      ],
      "metadata": {
        "id": "tE1LuhH32ILA"
      }
    },
    {
      "cell_type": "code",
      "source": [],
      "metadata": {
        "id": "4H-cEPeNiyce"
      },
      "execution_count": 43,
      "outputs": []
    },
    {
      "cell_type": "markdown",
      "source": [
        "Correlation between previous platform usage and interest in refurbished gadget"
      ],
      "metadata": {
        "id": "X5JcGhmciuyG"
      }
    },
    {
      "cell_type": "code",
      "source": [
        "#countplot for Previous platform usage and refurbished /donates gadget:\n",
        "sns.countplot(df, x= df[\"Interest in Refurbished/Donated Gadget\"], hue = df[\"Previous Platform Usage\"], palette={\"No\": \"green\", \"Yes\": \"grey\"} )\n",
        "plt.xlabel(\"Interest in Refurbished/Donated Gadget\")\n",
        "plt.ylabel(\"Count\")\n",
        "plt.title(\"Interest in refurbished gadget by previous platform experience\")"
      ],
      "metadata": {
        "colab": {
          "base_uri": "https://localhost:8080/",
          "height": 497
        },
        "id": "SIiRa6fa2GxR",
        "outputId": "0c1e6a7c-78ce-430c-d906-e2a113afbfd8"
      },
      "execution_count": 44,
      "outputs": [
        {
          "output_type": "execute_result",
          "data": {
            "text/plain": [
              "Text(0.5, 1.0, 'Interest in refurbished gadget by previous platform experience')"
            ]
          },
          "metadata": {},
          "execution_count": 44
        },
        {
          "output_type": "display_data",
          "data": {
            "text/plain": [
              "<Figure size 640x480 with 1 Axes>"
            ],
            "image/png": "[encoded data removed]"
          },
          "metadata": {}
        }
      ]
    },
    {
      "cell_type": "markdown",
      "source": [
        "*Insight: Respondents who have used/not used previous platforms are more likely to be interested in refurbished or donated gadgets. This indicates a potential correlation between previous technology usage and interest in receiving refurbished or donated gadgets.*"
      ],
      "metadata": {
        "id": "EvSz8DGa6143"
      }
    },
    {
      "cell_type": "markdown",
      "source": [
        "Correlation between age range and willingness to donate gadget"
      ],
      "metadata": {
        "id": "8RYLVofdkVkr"
      }
    },
    {
      "cell_type": "code",
      "source": [
        "#countplot for Age range and willingness to donate:\n",
        "sns.countplot(df, x= df[\"Age range\"], hue = df[\"Willingness to Donate\"], palette={\"Yes\": \"green\", \"Maybe\": \"grey\",\"No\": \"yellow\", \"Not Provided\": \"black\"} )\n",
        "plt.xlabel(\"Age range\")\n",
        "plt.ylabel(\"Count\")\n",
        "plt.title(\"Willingness to donate by age range\")"
      ],
      "metadata": {
        "id": "domVa3lT52BS"
      },
      "execution_count": null,
      "outputs": []
    },
    {
      "cell_type": "markdown",
      "source": [
        "*Insight: Respondents between the age range of 25-30  are more willing to donate old gadgets compared to young respondents (below 18). This could be due to factors such as technology preferences or financial constraints.*"
      ],
      "metadata": {
        "id": "MlIzUEiH-XK4"
      }
    },
    {
      "cell_type": "markdown",
      "source": [
        "Correlation between not owning a laptop and old gadget availability"
      ],
      "metadata": {
        "id": "pGfXRq6ik86T"
      }
    },
    {
      "cell_type": "code",
      "source": [
        "#countplot for reason for not owning laptop and old gadget availability:\n",
        "sns.countplot(df, x= df[\"Reason for Not Owning(if No)\"], hue = df[\"Old Gadgets Availability\"], palette={\"No\": \"grey\", \"Yes\": \"green\"})\n",
        "plt.xlabel(\"Reason for Not Owning\")\n",
        "plt.ylabel(\"Count\")\n",
        "plt.title(\"Reason for Not Owning by availability to old gadget\")"
      ],
      "metadata": {
        "id": "ye4RPplh52Hz"
      },
      "execution_count": null,
      "outputs": []
    },
    {
      "cell_type": "markdown",
      "source": [
        "*Insight: Respondents who do not own a laptop due to financial constraints are more likely to have availability to old gadgets. This suggests that while they may not be able to afford a new laptop, they still have access to older technology.*"
      ],
      "metadata": {
        "id": "J42BLmZn_8fq"
      }
    },
    {
      "cell_type": "markdown",
      "source": [
        "Correlation between gender and interest in refurbished gadgets"
      ],
      "metadata": {
        "id": "5XcwLApLluLE"
      }
    },
    {
      "cell_type": "code",
      "source": [
        "#countplot for gender and interest in refurbished /donated gadget:\n",
        "sns.countplot(df, x= df[\"Interest in Refurbished/Donated Gadget\"], hue = df[\"Gender\"],palette={\"Male\": \"grey\", \"Female\": \"green\"})\n",
        "plt.xlabel(\"Interest in Refurbished/Donated Gadget\")\n",
        "plt.ylabel(\"Count\")\n",
        "plt.title(\"Interest in Refurbished/Donated Gadget by Gender\")"
      ],
      "metadata": {
        "id": "LPu2_dsDAMrm"
      },
      "execution_count": null,
      "outputs": []
    },
    {
      "cell_type": "markdown",
      "source": [
        "*Insight: Female respondents may show a higher interest in refurbished or donated gadgets compared to male respondents. This could be due to different technology needs or preferences between genders.*"
      ],
      "metadata": {
        "id": "wCRzDeTHBfYE"
      }
    },
    {
      "cell_type": "markdown",
      "source": [
        "## *Previous Platform Usage and likelihood of Future Usage*"
      ],
      "metadata": {
        "id": "u61Q5sXLtOnw"
      }
    },
    {
      "cell_type": "code",
      "source": [
        "# Filter out entries where users have used other platform\n",
        "other_users = df[df[\"Platform Name(If yes)\"] != \"Swiggy\"]\n",
        "\n",
        "# Analyze reasons for not using delivery apps\n",
        "Previous_Platform_Usage_apps = other_users[\"Previous Platform Usage\"].value_counts()\n",
        "\n",
        "# Analyze future intent to use delivery apps\n",
        "future_usage = other_users[\"Likelihood of Future Usage\"].value_counts()\n",
        "\n",
        "# Plotting\n",
        "plt.figure(figsize=(10, 6))\n",
        "\n",
        "plt.subplot(1, 2, 1)\n",
        "Previous_Platform_Usage_apps.plot(kind='bar', color='green')\n",
        "plt.title('Previous Platform Usage')\n",
        "plt.xlabel('Previous platform used')\n",
        "plt.ylabel('Count')\n",
        "plt.xticks(rotation=45, ha='right')\n",
        "\n",
        "plt.subplot(1, 2, 2)\n",
        "future_usage.plot(kind='bar', color='green')\n",
        "plt.title('Likelihood of Future Usage')\n",
        "plt.xlabel('Rating')\n",
        "plt.ylabel('Count')\n",
        "plt.xticks(rotation=0)\n",
        "\n",
        "plt.tight_layout()\n",
        "plt.show()"
      ],
      "metadata": {
        "id": "jXC64HFLN3qA"
      },
      "execution_count": null,
      "outputs": []
    },
    {
      "cell_type": "markdown",
      "source": [
        "*Insight: A larger proportion of our respondents have not used any previous platform, and among them, a higher number are likely to use the platform in the future.*"
      ],
      "metadata": {
        "id": "XuHhd6qHmIwZ"
      }
    },
    {
      "cell_type": "markdown",
      "source": [
        "## *Identify key features*"
      ],
      "metadata": {
        "id": "8UU6yxAmnBER"
      }
    },
    {
      "cell_type": "markdown",
      "source": [
        "Visualize Desired feature using wordcloud"
      ],
      "metadata": {
        "id": "2NgiYWoYne9l"
      }
    },
    {
      "cell_type": "code",
      "source": [
        "Desired_Features_count= df['Desired Features'].value_counts()"
      ],
      "metadata": {
        "id": "qKFILLxbQ-bl"
      },
      "execution_count": null,
      "outputs": []
    },
    {
      "cell_type": "code",
      "source": [
        "from collections import Counter\n",
        "from wordcloud import WordCloud\n",
        "import matplotlib.pyplot as plt\n",
        "\n",
        "# Extract desired features\n",
        "desired_features = df[\"Desired Features\"]\n",
        "\n",
        "# Combine all features into a single string\n",
        "all_features = ' '.join(desired_features.dropna())\n",
        "\n",
        "# Perform text analysis to identify common themes or keywords\n",
        "words = all_features.split()\n",
        "word_counts = Counter(words)\n",
        "\n",
        "# Visualize the most common words using a word cloud\n",
        "# Visualize the most common words using a word cloud\n",
        "wordcloud = WordCloud(width=800, height=400, background_color='white').generate_from_frequencies(word_counts)\n",
        "\n",
        "plt.figure(figsize=(10, 6))\n",
        "plt.imshow(wordcloud, interpolation='bilinear')\n",
        "plt.axis('off')\n",
        "plt.title('User Feedback and Suggestions on desired features')\n",
        "plt.show()\n"
      ],
      "metadata": {
        "id": "09T6ltt5X9cj"
      },
      "execution_count": null,
      "outputs": []
    },
    {
      "cell_type": "markdown",
      "source": [
        "Desired security feature using wordcloud"
      ],
      "metadata": {
        "id": "uOWI0jPSoOpq"
      }
    },
    {
      "cell_type": "code",
      "source": [
        "\n",
        "Desired_Security_Features_count= df['Desired Security Features'].value_counts()"
      ],
      "metadata": {
        "id": "npSW_3VcSQ_z"
      },
      "execution_count": null,
      "outputs": []
    },
    {
      "cell_type": "code",
      "source": [
        "#Visualize Desired security feature using wordcloud\n",
        "from collections import Counter\n",
        "from wordcloud import WordCloud\n",
        "import matplotlib.pyplot as plt\n",
        "\n",
        "# Extract desired security features\n",
        "desired_security_features = df[\"Desired Security Features\"]\n",
        "\n",
        "# Combine all features into a single string\n",
        "all_features = ' '.join(desired_security_features.dropna())\n",
        "\n",
        "# Perform text analysis to identify common themes or keywords\n",
        "words = all_features.split()\n",
        "word_counts = Counter(words)\n",
        "\n",
        "# Visualize the most common words using a word cloud\n",
        "wordcloud = WordCloud(width=800, height=400, background_color='white', colormap='Greens_r').generate_from_frequencies(word_counts)\n",
        "\n",
        "plt.figure(figsize=(10, 6))\n",
        "plt.imshow(wordcloud, interpolation='bilinear')\n",
        "plt.axis('off')\n",
        "plt.title('User Feedback and Suggestions on desired Security features')\n",
        "plt.show()"
      ],
      "metadata": {
        "id": "uki2rymOWeIt"
      },
      "execution_count": null,
      "outputs": []
    },
    {
      "cell_type": "markdown",
      "source": [
        "Platform Improvement key feature using wordcloud"
      ],
      "metadata": {
        "id": "ArpXTwWBokpz"
      }
    },
    {
      "cell_type": "code",
      "source": [
        "Platform_Improvement_count= df['Platform Improvement Suggestions'].value_counts()"
      ],
      "metadata": {
        "id": "A8nqScABT3Sb"
      },
      "execution_count": null,
      "outputs": []
    },
    {
      "cell_type": "code",
      "source": [
        "from collections import Counter\n",
        "from wordcloud import WordCloud\n",
        "import matplotlib.pyplot as plt\n",
        "\n",
        "# Extract platform improvement suggestions\n",
        "platform_improve_suggestions = df[\"Platform Improvement Suggestions\"]\n",
        "\n",
        "# Combine all suggestions into a single string\n",
        "all_suggestions = ' '.join(platform_improve_suggestions.dropna())\n",
        "\n",
        "# Perform text analysis to identify common themes or keywords\n",
        "words = all_suggestions.split()\n",
        "word_counts = Counter(words)\n",
        "\n",
        "# Visualize the most common words using a word cloud\n",
        "wordcloud = WordCloud(width=800, height=400, background_color='white', colormap='Greens').generate_from_frequencies(word_counts)\n",
        "\n",
        "plt.figure(figsize=(10, 6))\n",
        "plt.imshow(wordcloud, interpolation='bilinear')\n",
        "plt.axis('off')\n",
        "plt.title('User feedback and suggestion for platform Improvement')\n",
        "plt.show()\n"
      ],
      "metadata": {
        "id": "mMR7I4FWVTx9"
      },
      "execution_count": null,
      "outputs": []
    },
    {
      "cell_type": "markdown",
      "source": [
        "## *CONCLUSION*\n",
        "\n",
        "1. There is a higher number of female respondents compared to male respondents, with 63% female and 37% male. Also, Female respondents show a higher interest in refurbished or donated gadgets compared to male respondents\n",
        "\n",
        "2. The majority of respondents are within the age range of 25-30, followed by those above 31, indicating a diverse age distribution.\n",
        "\n",
        "3. Employed individuals represent the largest group of respondents, highlighting the potential impact of targeting this demographic in initiatives.\n",
        "\n",
        "4. Half of the respondents have access to old gadgets, indicating a significant potential for donations or refurbishments.\n",
        "\n",
        "5. There is substantial interest in refurbished and donated gadgets among respondents, suggesting a positive reception to initiatives focused on this area.\n",
        "\n",
        "6. Respondents (25-30 age range) are more willing to donate old gadgets compared to younger respondents (Below 18).\n",
        "\n",
        "7. The majority of respondents tend to abandon their old gadgets, indicating a need for more effective strategies to promote responsible disposal or recycling practices.\n",
        "\n",
        "8.  A significant number of respondents have not used any previous platform, but among them, there is a high likelihood of using the platform in the future.\n",
        "\n",
        "9.  A considerable proportion of respondents exhibit a neutral sentiment, yet they are likely to use the platform in the future, indicating potential interest or openness to the platform."
      ],
      "metadata": {
        "id": "QFgRXyS4X6-F"
      }
    },
    {
      "cell_type": "markdown",
      "source": [
        "## *RECOMMENDATION*\n",
        "\n",
        "1. Focus on Employed Individuals and Students: Given that employed individuals and students are the two largest groups among respondents, focusing on engaging these demographics in initiatives could yield higher participation and impact.\n",
        "\n",
        "2. Engage with the Female Demographic: With a higher number of female respondents, there is an opportunity to specifically target and engage with this demographic through tailored programs, outreach efforts, and partnerships.\n",
        "\n",
        "3. Increase Awareness and Accessibility: Since half of the respondents have access to old gadgets and there is interest in refurbished and donated gadgets, efforts should be made to increase awareness of donation and recycling programs, as well as make them more accessible to those interested.\n",
        "\n",
        "4. Addressing Financial Constraints: Since a notable proportion of respondents cited financial constraints as a reason for not owning a laptop,  we need to consider offering financial assistance programs or affordable options for laptop acquisition to make technology more accessible.\n",
        "\n",
        "5. Implement a recycling or trade-in program to incentivize users to properly dispose of their old gadgets, reducing environmental impact and promoting sustainable practices.\n",
        "\n",
        "6. Enhance Security and Privacy Measures: Given the interest in donating and receiving refurbished gadgets, we need to ensure robust security and privacy measures are in place to protect donor and recipient information, including implementing secure data handling practices and encryption methods.\n",
        "\n",
        "\n",
        "7. Focus on Platform Usability: Since a significant number of respondents have not used any previous platform, emphasis should be placed on making the platform user-friendly and intuitive to encourage adoption and future usage.\n",
        "\n",
        "8. Enhance Communication and Awareness: Increase efforts to communicate the benefits of the platform to respondents, especially those with a neutral sentiment, to create awareness and generate interest in using the platform.\n",
        "\n",
        "9. Continuous Improvement: Continuously enhance the platform based on user feedback and emerging trends to maintain user interest and relevance.\n",
        "\n",
        "\n",
        "10. Collect More Detailed Information: Given that a significant number of respondents did not provide information or provided limited information, efforts should be made to collect more detailed and comprehensive data in future surveys to better understand respondents' needs and preferences.\n",
        "\n"
      ],
      "metadata": {
        "id": "cIhmI8GDYTGR"
      }
    }
  ]
}